{
  "cells": [
    {
      "cell_type": "markdown",
      "metadata": {
        "id": "view-in-github",
        "colab_type": "text"
      },
      "source": [
        "<a href=\"https://colab.research.google.com/github/paughis/MachineLearning/blob/main/template_text_mining_class_labelencoder.ipynb\" target=\"_parent\"><img src=\"https://colab.research.google.com/assets/colab-badge.svg\" alt=\"Open In Colab\"/></a>"
      ]
    },
    {
      "cell_type": "markdown",
      "metadata": {
        "id": "AEVfT6Bv4Cn2"
      },
      "source": [
        "## Template NLP Classificazione con LabelEncoder"
      ]
    },
    {
      "cell_type": "code",
      "execution_count": 1,
      "metadata": {
        "id": "rHkC1irM4Cn-"
      },
      "outputs": [],
      "source": [
        "import numpy as np\n",
        "import pandas as pd\n",
        "import re\n",
        "\n",
        "import warnings\n",
        "warnings.filterwarnings('ignore')\n",
        "\n",
        "# !pip install spacy ## Colab har already the installer\n",
        "# !python -m spacy download en\n",
        "#!python -m spacy download it_core_news_sm\n",
        "#!python -m spacy download it_core_news_md\n",
        "#!python -m spacy download it_core_news_lg"
      ]
    },
    {
      "cell_type": "code",
      "source": [
        "path = 'https://frenzy86.s3.eu-west-2.amazonaws.com/python/data/NLPes1.csv'\n",
        "df_original = pd.read_csv(path)\n",
        "df = df_original.copy()\n",
        "df"
      ],
      "metadata": {
        "id": "Ui5B2ciT5cY7",
        "colab": {
          "base_uri": "https://localhost:8080/",
          "height": 423
        },
        "outputId": "533dbc84-5657-4cb4-9e61-24a34a8db128"
      },
      "execution_count": 2,
      "outputs": [
        {
          "output_type": "execute_result",
          "data": {
            "text/plain": [
              "                                                  text  class\n",
              "0    b'insane ( but inspired ) musical about alferd...      1\n",
              "1    b'written by david j . schow and john shirley ...      0\n",
              "2    b'miramax \" disinvited \" on-line media from pr...      0\n",
              "3    b'in \" the astronaut\\'s wife , \" charlize ther...      0\n",
              "4    b'one of the 90s\\' most unwelcome thriller tre...      0\n",
              "..                                                 ...    ...\n",
              "408  b'hav plenty , as we are told in the beginning...      0\n",
              "409  b'brian de palma\\'s snake eyes stars nicolas c...      0\n",
              "410  b'contact ( pg ) there\\'s a moment late in rob...      1\n",
              "411  b\"this is a film that i was inclined to like a...      0\n",
              "412  b'any remake of an alfred hitchcock film is at...      0\n",
              "\n",
              "[413 rows x 2 columns]"
            ],
            "text/html": [
              "\n",
              "  <div id=\"df-b662c89d-96fc-4196-9778-d6f386c71726\" class=\"colab-df-container\">\n",
              "    <div>\n",
              "<style scoped>\n",
              "    .dataframe tbody tr th:only-of-type {\n",
              "        vertical-align: middle;\n",
              "    }\n",
              "\n",
              "    .dataframe tbody tr th {\n",
              "        vertical-align: top;\n",
              "    }\n",
              "\n",
              "    .dataframe thead th {\n",
              "        text-align: right;\n",
              "    }\n",
              "</style>\n",
              "<table border=\"1\" class=\"dataframe\">\n",
              "  <thead>\n",
              "    <tr style=\"text-align: right;\">\n",
              "      <th></th>\n",
              "      <th>text</th>\n",
              "      <th>class</th>\n",
              "    </tr>\n",
              "  </thead>\n",
              "  <tbody>\n",
              "    <tr>\n",
              "      <th>0</th>\n",
              "      <td>b'insane ( but inspired ) musical about alferd...</td>\n",
              "      <td>1</td>\n",
              "    </tr>\n",
              "    <tr>\n",
              "      <th>1</th>\n",
              "      <td>b'written by david j . schow and john shirley ...</td>\n",
              "      <td>0</td>\n",
              "    </tr>\n",
              "    <tr>\n",
              "      <th>2</th>\n",
              "      <td>b'miramax \" disinvited \" on-line media from pr...</td>\n",
              "      <td>0</td>\n",
              "    </tr>\n",
              "    <tr>\n",
              "      <th>3</th>\n",
              "      <td>b'in \" the astronaut\\'s wife , \" charlize ther...</td>\n",
              "      <td>0</td>\n",
              "    </tr>\n",
              "    <tr>\n",
              "      <th>4</th>\n",
              "      <td>b'one of the 90s\\' most unwelcome thriller tre...</td>\n",
              "      <td>0</td>\n",
              "    </tr>\n",
              "    <tr>\n",
              "      <th>...</th>\n",
              "      <td>...</td>\n",
              "      <td>...</td>\n",
              "    </tr>\n",
              "    <tr>\n",
              "      <th>408</th>\n",
              "      <td>b'hav plenty , as we are told in the beginning...</td>\n",
              "      <td>0</td>\n",
              "    </tr>\n",
              "    <tr>\n",
              "      <th>409</th>\n",
              "      <td>b'brian de palma\\'s snake eyes stars nicolas c...</td>\n",
              "      <td>0</td>\n",
              "    </tr>\n",
              "    <tr>\n",
              "      <th>410</th>\n",
              "      <td>b'contact ( pg ) there\\'s a moment late in rob...</td>\n",
              "      <td>1</td>\n",
              "    </tr>\n",
              "    <tr>\n",
              "      <th>411</th>\n",
              "      <td>b\"this is a film that i was inclined to like a...</td>\n",
              "      <td>0</td>\n",
              "    </tr>\n",
              "    <tr>\n",
              "      <th>412</th>\n",
              "      <td>b'any remake of an alfred hitchcock film is at...</td>\n",
              "      <td>0</td>\n",
              "    </tr>\n",
              "  </tbody>\n",
              "</table>\n",
              "<p>413 rows × 2 columns</p>\n",
              "</div>\n",
              "    <div class=\"colab-df-buttons\">\n",
              "\n",
              "  <div class=\"colab-df-container\">\n",
              "    <button class=\"colab-df-convert\" onclick=\"convertToInteractive('df-b662c89d-96fc-4196-9778-d6f386c71726')\"\n",
              "            title=\"Convert this dataframe to an interactive table.\"\n",
              "            style=\"display:none;\">\n",
              "\n",
              "  <svg xmlns=\"http://www.w3.org/2000/svg\" height=\"24px\" viewBox=\"0 -960 960 960\">\n",
              "    <path d=\"M120-120v-720h720v720H120Zm60-500h600v-160H180v160Zm220 220h160v-160H400v160Zm0 220h160v-160H400v160ZM180-400h160v-160H180v160Zm440 0h160v-160H620v160ZM180-180h160v-160H180v160Zm440 0h160v-160H620v160Z\"/>\n",
              "  </svg>\n",
              "    </button>\n",
              "\n",
              "  <style>\n",
              "    .colab-df-container {\n",
              "      display:flex;\n",
              "      gap: 12px;\n",
              "    }\n",
              "\n",
              "    .colab-df-convert {\n",
              "      background-color: #E8F0FE;\n",
              "      border: none;\n",
              "      border-radius: 50%;\n",
              "      cursor: pointer;\n",
              "      display: none;\n",
              "      fill: #1967D2;\n",
              "      height: 32px;\n",
              "      padding: 0 0 0 0;\n",
              "      width: 32px;\n",
              "    }\n",
              "\n",
              "    .colab-df-convert:hover {\n",
              "      background-color: #E2EBFA;\n",
              "      box-shadow: 0px 1px 2px rgba(60, 64, 67, 0.3), 0px 1px 3px 1px rgba(60, 64, 67, 0.15);\n",
              "      fill: #174EA6;\n",
              "    }\n",
              "\n",
              "    .colab-df-buttons div {\n",
              "      margin-bottom: 4px;\n",
              "    }\n",
              "\n",
              "    [theme=dark] .colab-df-convert {\n",
              "      background-color: #3B4455;\n",
              "      fill: #D2E3FC;\n",
              "    }\n",
              "\n",
              "    [theme=dark] .colab-df-convert:hover {\n",
              "      background-color: #434B5C;\n",
              "      box-shadow: 0px 1px 3px 1px rgba(0, 0, 0, 0.15);\n",
              "      filter: drop-shadow(0px 1px 2px rgba(0, 0, 0, 0.3));\n",
              "      fill: #FFFFFF;\n",
              "    }\n",
              "  </style>\n",
              "\n",
              "    <script>\n",
              "      const buttonEl =\n",
              "        document.querySelector('#df-b662c89d-96fc-4196-9778-d6f386c71726 button.colab-df-convert');\n",
              "      buttonEl.style.display =\n",
              "        google.colab.kernel.accessAllowed ? 'block' : 'none';\n",
              "\n",
              "      async function convertToInteractive(key) {\n",
              "        const element = document.querySelector('#df-b662c89d-96fc-4196-9778-d6f386c71726');\n",
              "        const dataTable =\n",
              "          await google.colab.kernel.invokeFunction('convertToInteractive',\n",
              "                                                    [key], {});\n",
              "        if (!dataTable) return;\n",
              "\n",
              "        const docLinkHtml = 'Like what you see? Visit the ' +\n",
              "          '<a target=\"_blank\" href=https://colab.research.google.com/notebooks/data_table.ipynb>data table notebook</a>'\n",
              "          + ' to learn more about interactive tables.';\n",
              "        element.innerHTML = '';\n",
              "        dataTable['output_type'] = 'display_data';\n",
              "        await google.colab.output.renderOutput(dataTable, element);\n",
              "        const docLink = document.createElement('div');\n",
              "        docLink.innerHTML = docLinkHtml;\n",
              "        element.appendChild(docLink);\n",
              "      }\n",
              "    </script>\n",
              "  </div>\n",
              "\n",
              "\n",
              "    <div id=\"df-cf7f5470-9367-4e49-907c-90d7380a251d\">\n",
              "      <button class=\"colab-df-quickchart\" onclick=\"quickchart('df-cf7f5470-9367-4e49-907c-90d7380a251d')\"\n",
              "                title=\"Suggest charts\"\n",
              "                style=\"display:none;\">\n",
              "\n",
              "<svg xmlns=\"http://www.w3.org/2000/svg\" height=\"24px\"viewBox=\"0 0 24 24\"\n",
              "     width=\"24px\">\n",
              "    <g>\n",
              "        <path d=\"M19 3H5c-1.1 0-2 .9-2 2v14c0 1.1.9 2 2 2h14c1.1 0 2-.9 2-2V5c0-1.1-.9-2-2-2zM9 17H7v-7h2v7zm4 0h-2V7h2v10zm4 0h-2v-4h2v4z\"/>\n",
              "    </g>\n",
              "</svg>\n",
              "      </button>\n",
              "\n",
              "<style>\n",
              "  .colab-df-quickchart {\n",
              "      --bg-color: #E8F0FE;\n",
              "      --fill-color: #1967D2;\n",
              "      --hover-bg-color: #E2EBFA;\n",
              "      --hover-fill-color: #174EA6;\n",
              "      --disabled-fill-color: #AAA;\n",
              "      --disabled-bg-color: #DDD;\n",
              "  }\n",
              "\n",
              "  [theme=dark] .colab-df-quickchart {\n",
              "      --bg-color: #3B4455;\n",
              "      --fill-color: #D2E3FC;\n",
              "      --hover-bg-color: #434B5C;\n",
              "      --hover-fill-color: #FFFFFF;\n",
              "      --disabled-bg-color: #3B4455;\n",
              "      --disabled-fill-color: #666;\n",
              "  }\n",
              "\n",
              "  .colab-df-quickchart {\n",
              "    background-color: var(--bg-color);\n",
              "    border: none;\n",
              "    border-radius: 50%;\n",
              "    cursor: pointer;\n",
              "    display: none;\n",
              "    fill: var(--fill-color);\n",
              "    height: 32px;\n",
              "    padding: 0;\n",
              "    width: 32px;\n",
              "  }\n",
              "\n",
              "  .colab-df-quickchart:hover {\n",
              "    background-color: var(--hover-bg-color);\n",
              "    box-shadow: 0 1px 2px rgba(60, 64, 67, 0.3), 0 1px 3px 1px rgba(60, 64, 67, 0.15);\n",
              "    fill: var(--button-hover-fill-color);\n",
              "  }\n",
              "\n",
              "  .colab-df-quickchart-complete:disabled,\n",
              "  .colab-df-quickchart-complete:disabled:hover {\n",
              "    background-color: var(--disabled-bg-color);\n",
              "    fill: var(--disabled-fill-color);\n",
              "    box-shadow: none;\n",
              "  }\n",
              "\n",
              "  .colab-df-spinner {\n",
              "    border: 2px solid var(--fill-color);\n",
              "    border-color: transparent;\n",
              "    border-bottom-color: var(--fill-color);\n",
              "    animation:\n",
              "      spin 1s steps(1) infinite;\n",
              "  }\n",
              "\n",
              "  @keyframes spin {\n",
              "    0% {\n",
              "      border-color: transparent;\n",
              "      border-bottom-color: var(--fill-color);\n",
              "      border-left-color: var(--fill-color);\n",
              "    }\n",
              "    20% {\n",
              "      border-color: transparent;\n",
              "      border-left-color: var(--fill-color);\n",
              "      border-top-color: var(--fill-color);\n",
              "    }\n",
              "    30% {\n",
              "      border-color: transparent;\n",
              "      border-left-color: var(--fill-color);\n",
              "      border-top-color: var(--fill-color);\n",
              "      border-right-color: var(--fill-color);\n",
              "    }\n",
              "    40% {\n",
              "      border-color: transparent;\n",
              "      border-right-color: var(--fill-color);\n",
              "      border-top-color: var(--fill-color);\n",
              "    }\n",
              "    60% {\n",
              "      border-color: transparent;\n",
              "      border-right-color: var(--fill-color);\n",
              "    }\n",
              "    80% {\n",
              "      border-color: transparent;\n",
              "      border-right-color: var(--fill-color);\n",
              "      border-bottom-color: var(--fill-color);\n",
              "    }\n",
              "    90% {\n",
              "      border-color: transparent;\n",
              "      border-bottom-color: var(--fill-color);\n",
              "    }\n",
              "  }\n",
              "</style>\n",
              "\n",
              "      <script>\n",
              "        async function quickchart(key) {\n",
              "          const quickchartButtonEl =\n",
              "            document.querySelector('#' + key + ' button');\n",
              "          quickchartButtonEl.disabled = true;  // To prevent multiple clicks.\n",
              "          quickchartButtonEl.classList.add('colab-df-spinner');\n",
              "          try {\n",
              "            const charts = await google.colab.kernel.invokeFunction(\n",
              "                'suggestCharts', [key], {});\n",
              "          } catch (error) {\n",
              "            console.error('Error during call to suggestCharts:', error);\n",
              "          }\n",
              "          quickchartButtonEl.classList.remove('colab-df-spinner');\n",
              "          quickchartButtonEl.classList.add('colab-df-quickchart-complete');\n",
              "        }\n",
              "        (() => {\n",
              "          let quickchartButtonEl =\n",
              "            document.querySelector('#df-cf7f5470-9367-4e49-907c-90d7380a251d button');\n",
              "          quickchartButtonEl.style.display =\n",
              "            google.colab.kernel.accessAllowed ? 'block' : 'none';\n",
              "        })();\n",
              "      </script>\n",
              "    </div>\n",
              "\n",
              "  <div id=\"id_5c747a53-d7b2-4680-93e6-18b9c1371464\">\n",
              "    <style>\n",
              "      .colab-df-generate {\n",
              "        background-color: #E8F0FE;\n",
              "        border: none;\n",
              "        border-radius: 50%;\n",
              "        cursor: pointer;\n",
              "        display: none;\n",
              "        fill: #1967D2;\n",
              "        height: 32px;\n",
              "        padding: 0 0 0 0;\n",
              "        width: 32px;\n",
              "      }\n",
              "\n",
              "      .colab-df-generate:hover {\n",
              "        background-color: #E2EBFA;\n",
              "        box-shadow: 0px 1px 2px rgba(60, 64, 67, 0.3), 0px 1px 3px 1px rgba(60, 64, 67, 0.15);\n",
              "        fill: #174EA6;\n",
              "      }\n",
              "\n",
              "      [theme=dark] .colab-df-generate {\n",
              "        background-color: #3B4455;\n",
              "        fill: #D2E3FC;\n",
              "      }\n",
              "\n",
              "      [theme=dark] .colab-df-generate:hover {\n",
              "        background-color: #434B5C;\n",
              "        box-shadow: 0px 1px 3px 1px rgba(0, 0, 0, 0.15);\n",
              "        filter: drop-shadow(0px 1px 2px rgba(0, 0, 0, 0.3));\n",
              "        fill: #FFFFFF;\n",
              "      }\n",
              "    </style>\n",
              "    <button class=\"colab-df-generate\" onclick=\"generateWithVariable('df')\"\n",
              "            title=\"Generate code using this dataframe.\"\n",
              "            style=\"display:none;\">\n",
              "\n",
              "  <svg xmlns=\"http://www.w3.org/2000/svg\" height=\"24px\"viewBox=\"0 0 24 24\"\n",
              "       width=\"24px\">\n",
              "    <path d=\"M7,19H8.4L18.45,9,17,7.55,7,17.6ZM5,21V16.75L18.45,3.32a2,2,0,0,1,2.83,0l1.4,1.43a1.91,1.91,0,0,1,.58,1.4,1.91,1.91,0,0,1-.58,1.4L9.25,21ZM18.45,9,17,7.55Zm-12,3A5.31,5.31,0,0,0,4.9,8.1,5.31,5.31,0,0,0,1,6.5,5.31,5.31,0,0,0,4.9,4.9,5.31,5.31,0,0,0,6.5,1,5.31,5.31,0,0,0,8.1,4.9,5.31,5.31,0,0,0,12,6.5,5.46,5.46,0,0,0,6.5,12Z\"/>\n",
              "  </svg>\n",
              "    </button>\n",
              "    <script>\n",
              "      (() => {\n",
              "      const buttonEl =\n",
              "        document.querySelector('#id_5c747a53-d7b2-4680-93e6-18b9c1371464 button.colab-df-generate');\n",
              "      buttonEl.style.display =\n",
              "        google.colab.kernel.accessAllowed ? 'block' : 'none';\n",
              "\n",
              "      buttonEl.onclick = () => {\n",
              "        google.colab.notebook.generateWithVariable('df');\n",
              "      }\n",
              "      })();\n",
              "    </script>\n",
              "  </div>\n",
              "\n",
              "    </div>\n",
              "  </div>\n"
            ],
            "application/vnd.google.colaboratory.intrinsic+json": {
              "type": "dataframe",
              "variable_name": "df",
              "summary": "{\n  \"name\": \"df\",\n  \"rows\": 413,\n  \"fields\": [\n    {\n      \"column\": \"text\",\n      \"properties\": {\n        \"dtype\": \"string\",\n        \"num_unique_values\": 413,\n        \"samples\": [\n          \"b\\\"capsule : the running gag pair of characters from all of kevin smith's films gets their own movie . \\\\nthe gags are sporadically funny . \\\\nit is more than occasionally funny for teens who are fond of scatological humor and anti-gay jokes . \\\\nthe plot is weak and the leads are not a particularly funny comic team . \\\\nthe little inside jokes and digs at other entertainment and particularly at kevin smith films are the best features of the film . \\\\nsadly for me they were just not funny enough to make the film worth watching . \\\\nthis feels like the high school skit that that the principal would not let the kids do on talent night . \\\\n ( and it turns out he had very good reasons . ) \\\\n , low 0 ( -4 to +4 ) \\\\na film needs a plot . \\\\nit needs characters for empathy value . \\\\nit needs a story and an emotional center . \\\\nif a film is just a chain of jokes it can only be so good and any entertainment value will succeed or fail based on how funny the jokes are . \\\\nkevin smith has now made two satisfying films , clerks and chasing amy . \\\\nwith dogma he tried to make a philosophical religious comedy and mixed with a madcap romp . \\\\npeter cook and dudley moore did that very successfully with their bedazzled . \\\\nbut getting the combination to work is very hard to do right and kevin smith's fecal monsters in dogma were not the way to do it . \\\\nhis remaining two films , mallrats and his new jay and silent bob strike back are aimed squarely at a teenage audience . \\\\njay and silent bob strike back is a compendium of gay jokes , penis jokes , flatulence jokes , film pastiches , and in-jokes . \\\\nhow funny the jokes are will be a subjective call . \\\\nfor me , the vast majority of the jokes were just not very funny . \\\\nthere was not enough cleverness or variety . \\\\nit is funny at most once or twice to accuse someone of being gay . \\\\npenis jokes work only so many times . \\\\nshowing up as minor characters in every kevin smith film jay and silent bob were a clever pair of human running gags . \\\\nthey were sort of the modern equivalents of naunton wayne and basil radford , the comic duo who showed up satirizing the english middle class in several good british post-war films including dead of night , the lady vanishes , and passport to pimlico . \\\\njay and silent bob were originally supposedly typical generation x stoners . \\\\nas the series wore on they had larger and larger parts . \\\\nin jay and silent bob strike back they are the leads . \\\\njay and silent bob ( played by jason mewes and kevin smith ) are chased away from the front of the convenience store where they were dealing drugs in clerks . \\\\nthis leaves them at loose ends . \\\\nthey are not sure what would be worthwhile to do with their lives when they hear that a comic book with characters visually modeled on them will be adapted into a movie . \\\\nthey decide to devote their lives to wrecking the movie or getting some of that big movie industry cash . \\\\nso it is off to hollywood to shake down the movie company and having adventures along the way . \\\\nthe film is mostly about their adventures on the road and when they get to hollywood \\\\nthe problem with this comedy team is that neither really pulls his weight to make the film funny . \\\\nsilent bob , being silent , can only contribute to the comedy by reacting with that very expressive face of his . \\\\nthis makes his piece of the comedy even less than a straight man like a dean martin or bud abbott would have . \\\\njay has to be the comic . \\\\nhe could carry the load for both if he were extremely inventive . \\\\nthe problem is that he is not sufficiently funny . \\\\nhe is too bland to be the comic half and his lines just do not show any comic flair . \\\\nso jay and silent bob are a long way from being a successful comic team . \\\\ntheir starring roles and the low humor make this a comedy for those young at mind and for people who can laugh at gags they have seen before--sometimes just minutes before . \\\\nlike dogma before it , but definitely not like chasing amy , this film feels more like an amateurish skit than a real movie . \\\\ncertainly neither the plot nor the characters are at all involving . \\\\nthey are excuses for gags , many of which still fall flat . \\\\nit is dogma without any of the humorous theological content . \\\\nthe film does not offer much to an adult audience . \\\\ni rate it 4 on the 0 to 10 scale and a low 0 on the -4 to +4 scale . \\\\n\\\"\",\n          \"b'the sweet hereafter could serve as a textbook example of the difference between television movies and \\\" real \\\" movies . \\\\nconsider for a moment what a television producer would do with a book that features a fatal school bus accident and a lawyer out to sign up the bereaved -- lots of hot sensationalism interrupted with breaks to sell beer and toothpaste . \\\\ntop-flight writer and director atom egoyan delivers instead a film with tremendous power whose most notable trait is its touching subtlety . \\\\nbased on a respected book of the same name by author russell banks , the movie represents a rethinking of the story\\\\'s structure , not merely a literal adaptation of the novel . \\\\ntold in linear form by four narrators in the book , egoyan\\\\'s version happens instead in overlapping time sequences and without a narrator . \\\\nthe author is even on record as applauding egoyan\\\\'s changes . \\\\nin the press notes the book\\\\'s author describes the story as \\\" a parable of lost children . \\\" \\\\nhe says it asks what a town does in the absence of its children . \\\\npicking up on this , egoyan has a flashback in which a sitter , nicole burnell , played with grace by sarah polley , reads parts of \\\" the pied piper \\\" from an old , illustrated book to her two charges . \\\\nperiodically throughout the picture , nicole\\\\'s readings are heard in voice-over . \\\\nyou have never heard this moving poem read so sweetly or in such an appropriate moment . \\\\nthey and the rest of the town\\\\'s children come into harm\\\\'s way -- some live and others are seriously injured . \\\\nand the entire small canadian town where the accident occurs is never the same again . \\\\nalthough the physical damage is inflicted mainly on the children , the adults bear the emotional scars of the loss . \\\\nian holm , in arguably the best performance of his distinguished career , plays mitchell stephens , an intense man of quiet misery . \\\\nmitchell is the outsider in the story set in a small , snow-encrusted community in the british columbian wilderness . \\\\nhis mission there is a singular one , to sign up the parents so that he can sue someone , anyone , on their behalf . \\\\nif this seems crass , well it is , but mitchell approaches his job with the dedication of a religious zealot . \\\\nthe story unfolds slowly and always believably . \\\\neach little aspect has its own fascination . \\\\nas mitchell interviews wendell and rita walker , played with quiet realism by maury chaykin and alberta watson , he has a simple task . \\\\nhe wants them to suggest some model couple in the village who has a lost a child so that he can use that couple to form the basis of the suit . \\\\nwendell ticks off one town member after another and then , as one can in a small town , enumerates each person\\\\'s numerous faults . \\\\nalthough the town is no peyton place , people there do have their foibles . \\\\none of the best parents in the town appears to be billy ansell ( bruce greenwood ) , who rides his pickup behind the school bus everyday just so he can wave good-bye to his kids . \\\\nwell , single parent billy\\\\'s fault is that he has regularly scheduled trysts with the married rita . \\\\nhis confessions to rita about his feelings of loss are one of the many heartfelt outpourings in the story . \\\\nthe accident itself , a simple one of a bus hitting a patch of ice , isn\\\\'t shown until the middle of the picture , but , nevertheless , the mystery about it builds throughout the film . \\\\nalthough the picture is no detective story , finding out exactly what happened is a subtheme in a movie that is primarily a character study of a town gripped by tragedy . \\\\nas the injured bus driver , gabrielle rose , dolores driscoll plays the role of a dedicated individual who loves kids with a passion and for whom the tragedy takes on special meaning . \\\\nto round out the story , mitchell has his own private tragedy to bear . \\\\nhis daughter zoe ( caerthan banks ) is a drug addict who has bounced in and out of one half-way house and recovery center after another . \\\\nfond of calling her dad on his cell phone so she can ask for money or help , she interrupts him at many emotionally charged moments as he attempts to sign up the townsfolk . \\\\n ( \\\" i can help you , \\\" mitchell tries to reassure billy . \\\\n \\\" not unless you can raise the dead , \\\" billy snaps back . \\\\nmitchell\\\\'s pitch is never an easy one and worrying about zoe only makes it harder . ) \\\\nmychael danna\\\\'s haunting music sets the stage for tragedy . \\\\nthe cinematography by paul sarossy is sweeping in its outdoor grandeur , but it is in the warm , shadowy , intimate moments indoors where it works best . \\\\nthe show , which is ripe for emotional manipulation , never plays with its audience . \\\\nstill , when the house lights go up , you may feel as i did . \\\\ni could barely breathe ; i was so overcome by the sum total of what i had witnessed . \\\\nmore than anything , the film is like a master painting . \\\\neach cinematic brush stroke is carefully laid down by egoyan with the beauty building with each dollop of paint . \\\\nwith the final color in place , the masterpiece is complete , and the ending credits roll . \\\\nthe sweet hereafter runs 1 : 50 . \\\\nit is rated r for mature themes , sexuality and some profanity and would be fine teenagers . \\\\n'\",\n          \"b'i think of i know what you did last summer as the movie that scream and scream 2 could have been . \\\\nmind you , though , i mean this in the worst possible way . \\\\ni know what you did last summer is a typical slasher flic without the smarts of the scream\\\\'s . \\\\nas a result , it\\\\'s even worse than some of your better campy horror pictures ( see nightmare on elm street ) because it thinks it\\\\'s about thirty times smarter than it is . \\\\nbased on a teen book of the same name and , disappointingly , adapted by scream scribe kevin williamson , i know what you did last summer begins with appropriately angsty modern rock music combined with some startling cinematography of a cliff along the ocean and an angsty sort sitting at the top . \\\\nthe appropriate mood being set ( this is angst-horror for the 90\\\\'s ) , we cut over to the july 4th parade in a small north carolina town . \\\\nfrom there , we see the blond , female protagonist , helen shivers ( woodenly played by sarah michelle geller ) , getting crowned croaker queen as the blond male \\\" hero , \\\" barry cox ( woodenly played by ryan phillipe ) , and matched brunette pair of protagonists , julie james and ray bronson ( woodenly played by party of five\\\\'s jennifer love hewitt and freddie prinze jr . , respectively ) cheer her on . \\\\nafter getting drunk at a party , going to a beach to wittily discuss urban legend and indulge in some foreshadowing , and having some meaningful sex ( if you believe what the characters say ) , the four run down some guy crossing the windy cliff road at night . \\\\nhis face is mangled so they can\\\\'t tell who it is , and they come to the decision to dump him in the ocean so as to not ruin any of their future chances for success in the world . \\\\ncut to one year later . \\\\nthe lives of our protagonists have gone from annoying to bad . \\\\nmain brunette female , the bright one of the bunch , has been plagued with guilt and almost failed out of college . \\\\nblond female has forfeited her dreams of starring on guiding light , and now works at the family store in town . \\\\nbrunette male is a fisherman , living off the land . \\\\nblond male has become a complete jerk and quarterback on some college football team . \\\\nthen , predictably , their past comes back to haunt them . \\\\nit all begins with an irrational murder , followed by some taunting of protagonists by the mysterious killer , bad acting by a good actress ( anne heche ) , an improbable plot , bad acting by the main bad actors , some more killing , concluding in a climactic scene , mostly climactic in the relief at the end of the movie . \\\\nall the while , the actors and actresses spout off bad lines , and main brunette male does his best keanu reeves imitation . \\\\nnot that the movie was without pleasure . \\\\ncount the illogical plot twists and bad lines for some fun . \\\\nmostly , though , note the costumes of main females and how trendily unattractive they make the otherwise eye-catching pair look . \\\\n'\"\n        ],\n        \"semantic_type\": \"\",\n        \"description\": \"\"\n      }\n    },\n    {\n      \"column\": \"class\",\n      \"properties\": {\n        \"dtype\": \"number\",\n        \"std\": 0,\n        \"min\": 0,\n        \"max\": 1,\n        \"num_unique_values\": 2,\n        \"samples\": [\n          0,\n          1\n        ],\n        \"semantic_type\": \"\",\n        \"description\": \"\"\n      }\n    }\n  ]\n}"
            }
          },
          "metadata": {},
          "execution_count": 2
        }
      ]
    },
    {
      "cell_type": "markdown",
      "source": [
        "## 0. CLEANING"
      ],
      "metadata": {
        "id": "RlsMDQa7geFJ"
      }
    },
    {
      "cell_type": "code",
      "source": [
        "# STEP0 drop colonas innecesarias, duplicates, y gestionar null\n",
        "# df = df.drop(columns = ['...', '...'])\n",
        "df.info()\n",
        "# df.value_counts()\n",
        "# df.drop_duplicates()\n",
        "# df.isnull().sum()\n",
        "# df = df.dropna()\n",
        "# df.info()\n",
        "# df.describe()"
      ],
      "metadata": {
        "id": "GT3gNzep4rAm",
        "colab": {
          "base_uri": "https://localhost:8080/"
        },
        "outputId": "0cbf0c24-b5ef-4907-8c09-80acbc53c766"
      },
      "execution_count": 3,
      "outputs": [
        {
          "output_type": "stream",
          "name": "stdout",
          "text": [
            "<class 'pandas.core.frame.DataFrame'>\n",
            "RangeIndex: 413 entries, 0 to 412\n",
            "Data columns (total 2 columns):\n",
            " #   Column  Non-Null Count  Dtype \n",
            "---  ------  --------------  ----- \n",
            " 0   text    413 non-null    object\n",
            " 1   class   413 non-null    int64 \n",
            "dtypes: int64(1), object(1)\n",
            "memory usage: 6.6+ KB\n"
          ]
        }
      ]
    },
    {
      "cell_type": "code",
      "source": [
        "# tenemos floats en la colonna text? --> pasamos todo a stringa!!\n",
        "df['text'] = df['text'].astype(str)\n",
        "df.info()"
      ],
      "metadata": {
        "colab": {
          "base_uri": "https://localhost:8080/"
        },
        "id": "snV4_XmxelrQ",
        "outputId": "e27f82ae-8756-4a2f-b8c0-5f69a9653412"
      },
      "execution_count": 4,
      "outputs": [
        {
          "output_type": "stream",
          "name": "stdout",
          "text": [
            "<class 'pandas.core.frame.DataFrame'>\n",
            "RangeIndex: 413 entries, 0 to 412\n",
            "Data columns (total 2 columns):\n",
            " #   Column  Non-Null Count  Dtype \n",
            "---  ------  --------------  ----- \n",
            " 0   text    413 non-null    object\n",
            " 1   class   413 non-null    int64 \n",
            "dtypes: int64(1), object(1)\n",
            "memory usage: 6.6+ KB\n"
          ]
        }
      ]
    },
    {
      "cell_type": "code",
      "source": [
        "# STEP1 DEFINIRE ED APPLICARE LA REGEX\n",
        "df = pd.read_csv(path)\n",
        "\n",
        "words_to_remove = ['gargamella', 'doggy', 'word3']\n",
        "words_pattern = r'\\b(?:' + '|'.join(map(re.escape, words_to_remove)) + r')\\b'\n",
        "                # \\b            -> word boundary: garantiza que se eliminen palabras completas y no partes de palabras mas grandes\n",
        "                # (?: '...')    -> \"grupo de no captura\": agrupa elementos sin \"recordar\" el texto que coincide con ellas. Eficiencia.\n",
        "                # + '|'         -> concatenar varios \"or\", o sea: words_to_remove[0]\n",
        "                # map()         -> funcion de python que aplica una funcion (re.escape) a cada elemento de in iterable (words_to_remove).\n",
        "                # + r'          -> concatena el cierre del patron con la parte central, asegurando que \\b no sea interpretado como regex\n",
        "                # re.escape     -> hace que los caract especiales sean interpretados literalmente, no como regex\n",
        "\n",
        "patterns = {\n",
        "            r\"[a-zA-Z]+n\\'t\": 'not',\n",
        "            r'\\s+': ' ',             # Substitute multiple spaces with a single space\n",
        "            r'\\d+': '',              # Remove digits\n",
        "            r'[^\\w\\s]': '',          # Remove punctuation and symbols\n",
        "            r'\\b\\w{1,2}\\b': '',      # Remove all tokens less than 2 characters\n",
        "            r'(http|www)[^\\s]+': '', # Remove websites\n",
        "            words_pattern: ''        # Remove specific words\n",
        "            }\n",
        "\n",
        "def clean_column(df, column, patterns):\n",
        "    for pattern, replacement in patterns.items():\n",
        "        df[column] = df[column].str.replace(pattern, replacement, regex=True)\n",
        "    df[column] = df[column].str.lower() # Apply lowercase transformation\n",
        "    return df\n",
        "\n",
        "#solo in preview\n",
        "clean_column(df, 'text', patterns)"
      ],
      "metadata": {
        "colab": {
          "base_uri": "https://localhost:8080/",
          "height": 423
        },
        "id": "_NgSupnDNZng",
        "outputId": "cc92d759-18ec-4e2f-85ca-c9a80831cb6b"
      },
      "execution_count": 5,
      "outputs": [
        {
          "output_type": "execute_result",
          "data": {
            "text/plain": [
              "                                                  text  class\n",
              "0    binsane  but inspired  musical about alferd pa...      1\n",
              "1    bwritten  david   schow and john shirley  base...      0\n",
              "2    bmiramax  disinvited  online media from press ...      0\n",
              "3    bin  the astronauts wife   charlize theron pla...      0\n",
              "4    bone  the  most unwelcome thriller trends retu...      0\n",
              "..                                                 ...    ...\n",
              "408  bhav plenty    are told  the beginning and rem...      0\n",
              "409  bbrian  palmas snake eyes stars nicolas cages ...      0\n",
              "410  bcontact    theres  moment late  robert zemeck...      1\n",
              "411  bthis   film that  was inclined  like  the out...      0\n",
              "412  bany remake   alfred hitchcock film   best  un...      0\n",
              "\n",
              "[413 rows x 2 columns]"
            ],
            "text/html": [
              "\n",
              "  <div id=\"df-d3a3974e-c925-4b5d-8c22-c8475adb9eeb\" class=\"colab-df-container\">\n",
              "    <div>\n",
              "<style scoped>\n",
              "    .dataframe tbody tr th:only-of-type {\n",
              "        vertical-align: middle;\n",
              "    }\n",
              "\n",
              "    .dataframe tbody tr th {\n",
              "        vertical-align: top;\n",
              "    }\n",
              "\n",
              "    .dataframe thead th {\n",
              "        text-align: right;\n",
              "    }\n",
              "</style>\n",
              "<table border=\"1\" class=\"dataframe\">\n",
              "  <thead>\n",
              "    <tr style=\"text-align: right;\">\n",
              "      <th></th>\n",
              "      <th>text</th>\n",
              "      <th>class</th>\n",
              "    </tr>\n",
              "  </thead>\n",
              "  <tbody>\n",
              "    <tr>\n",
              "      <th>0</th>\n",
              "      <td>binsane  but inspired  musical about alferd pa...</td>\n",
              "      <td>1</td>\n",
              "    </tr>\n",
              "    <tr>\n",
              "      <th>1</th>\n",
              "      <td>bwritten  david   schow and john shirley  base...</td>\n",
              "      <td>0</td>\n",
              "    </tr>\n",
              "    <tr>\n",
              "      <th>2</th>\n",
              "      <td>bmiramax  disinvited  online media from press ...</td>\n",
              "      <td>0</td>\n",
              "    </tr>\n",
              "    <tr>\n",
              "      <th>3</th>\n",
              "      <td>bin  the astronauts wife   charlize theron pla...</td>\n",
              "      <td>0</td>\n",
              "    </tr>\n",
              "    <tr>\n",
              "      <th>4</th>\n",
              "      <td>bone  the  most unwelcome thriller trends retu...</td>\n",
              "      <td>0</td>\n",
              "    </tr>\n",
              "    <tr>\n",
              "      <th>...</th>\n",
              "      <td>...</td>\n",
              "      <td>...</td>\n",
              "    </tr>\n",
              "    <tr>\n",
              "      <th>408</th>\n",
              "      <td>bhav plenty    are told  the beginning and rem...</td>\n",
              "      <td>0</td>\n",
              "    </tr>\n",
              "    <tr>\n",
              "      <th>409</th>\n",
              "      <td>bbrian  palmas snake eyes stars nicolas cages ...</td>\n",
              "      <td>0</td>\n",
              "    </tr>\n",
              "    <tr>\n",
              "      <th>410</th>\n",
              "      <td>bcontact    theres  moment late  robert zemeck...</td>\n",
              "      <td>1</td>\n",
              "    </tr>\n",
              "    <tr>\n",
              "      <th>411</th>\n",
              "      <td>bthis   film that  was inclined  like  the out...</td>\n",
              "      <td>0</td>\n",
              "    </tr>\n",
              "    <tr>\n",
              "      <th>412</th>\n",
              "      <td>bany remake   alfred hitchcock film   best  un...</td>\n",
              "      <td>0</td>\n",
              "    </tr>\n",
              "  </tbody>\n",
              "</table>\n",
              "<p>413 rows × 2 columns</p>\n",
              "</div>\n",
              "    <div class=\"colab-df-buttons\">\n",
              "\n",
              "  <div class=\"colab-df-container\">\n",
              "    <button class=\"colab-df-convert\" onclick=\"convertToInteractive('df-d3a3974e-c925-4b5d-8c22-c8475adb9eeb')\"\n",
              "            title=\"Convert this dataframe to an interactive table.\"\n",
              "            style=\"display:none;\">\n",
              "\n",
              "  <svg xmlns=\"http://www.w3.org/2000/svg\" height=\"24px\" viewBox=\"0 -960 960 960\">\n",
              "    <path d=\"M120-120v-720h720v720H120Zm60-500h600v-160H180v160Zm220 220h160v-160H400v160Zm0 220h160v-160H400v160ZM180-400h160v-160H180v160Zm440 0h160v-160H620v160ZM180-180h160v-160H180v160Zm440 0h160v-160H620v160Z\"/>\n",
              "  </svg>\n",
              "    </button>\n",
              "\n",
              "  <style>\n",
              "    .colab-df-container {\n",
              "      display:flex;\n",
              "      gap: 12px;\n",
              "    }\n",
              "\n",
              "    .colab-df-convert {\n",
              "      background-color: #E8F0FE;\n",
              "      border: none;\n",
              "      border-radius: 50%;\n",
              "      cursor: pointer;\n",
              "      display: none;\n",
              "      fill: #1967D2;\n",
              "      height: 32px;\n",
              "      padding: 0 0 0 0;\n",
              "      width: 32px;\n",
              "    }\n",
              "\n",
              "    .colab-df-convert:hover {\n",
              "      background-color: #E2EBFA;\n",
              "      box-shadow: 0px 1px 2px rgba(60, 64, 67, 0.3), 0px 1px 3px 1px rgba(60, 64, 67, 0.15);\n",
              "      fill: #174EA6;\n",
              "    }\n",
              "\n",
              "    .colab-df-buttons div {\n",
              "      margin-bottom: 4px;\n",
              "    }\n",
              "\n",
              "    [theme=dark] .colab-df-convert {\n",
              "      background-color: #3B4455;\n",
              "      fill: #D2E3FC;\n",
              "    }\n",
              "\n",
              "    [theme=dark] .colab-df-convert:hover {\n",
              "      background-color: #434B5C;\n",
              "      box-shadow: 0px 1px 3px 1px rgba(0, 0, 0, 0.15);\n",
              "      filter: drop-shadow(0px 1px 2px rgba(0, 0, 0, 0.3));\n",
              "      fill: #FFFFFF;\n",
              "    }\n",
              "  </style>\n",
              "\n",
              "    <script>\n",
              "      const buttonEl =\n",
              "        document.querySelector('#df-d3a3974e-c925-4b5d-8c22-c8475adb9eeb button.colab-df-convert');\n",
              "      buttonEl.style.display =\n",
              "        google.colab.kernel.accessAllowed ? 'block' : 'none';\n",
              "\n",
              "      async function convertToInteractive(key) {\n",
              "        const element = document.querySelector('#df-d3a3974e-c925-4b5d-8c22-c8475adb9eeb');\n",
              "        const dataTable =\n",
              "          await google.colab.kernel.invokeFunction('convertToInteractive',\n",
              "                                                    [key], {});\n",
              "        if (!dataTable) return;\n",
              "\n",
              "        const docLinkHtml = 'Like what you see? Visit the ' +\n",
              "          '<a target=\"_blank\" href=https://colab.research.google.com/notebooks/data_table.ipynb>data table notebook</a>'\n",
              "          + ' to learn more about interactive tables.';\n",
              "        element.innerHTML = '';\n",
              "        dataTable['output_type'] = 'display_data';\n",
              "        await google.colab.output.renderOutput(dataTable, element);\n",
              "        const docLink = document.createElement('div');\n",
              "        docLink.innerHTML = docLinkHtml;\n",
              "        element.appendChild(docLink);\n",
              "      }\n",
              "    </script>\n",
              "  </div>\n",
              "\n",
              "\n",
              "    <div id=\"df-a5694ca8-60a4-47f5-b935-7c049150984a\">\n",
              "      <button class=\"colab-df-quickchart\" onclick=\"quickchart('df-a5694ca8-60a4-47f5-b935-7c049150984a')\"\n",
              "                title=\"Suggest charts\"\n",
              "                style=\"display:none;\">\n",
              "\n",
              "<svg xmlns=\"http://www.w3.org/2000/svg\" height=\"24px\"viewBox=\"0 0 24 24\"\n",
              "     width=\"24px\">\n",
              "    <g>\n",
              "        <path d=\"M19 3H5c-1.1 0-2 .9-2 2v14c0 1.1.9 2 2 2h14c1.1 0 2-.9 2-2V5c0-1.1-.9-2-2-2zM9 17H7v-7h2v7zm4 0h-2V7h2v10zm4 0h-2v-4h2v4z\"/>\n",
              "    </g>\n",
              "</svg>\n",
              "      </button>\n",
              "\n",
              "<style>\n",
              "  .colab-df-quickchart {\n",
              "      --bg-color: #E8F0FE;\n",
              "      --fill-color: #1967D2;\n",
              "      --hover-bg-color: #E2EBFA;\n",
              "      --hover-fill-color: #174EA6;\n",
              "      --disabled-fill-color: #AAA;\n",
              "      --disabled-bg-color: #DDD;\n",
              "  }\n",
              "\n",
              "  [theme=dark] .colab-df-quickchart {\n",
              "      --bg-color: #3B4455;\n",
              "      --fill-color: #D2E3FC;\n",
              "      --hover-bg-color: #434B5C;\n",
              "      --hover-fill-color: #FFFFFF;\n",
              "      --disabled-bg-color: #3B4455;\n",
              "      --disabled-fill-color: #666;\n",
              "  }\n",
              "\n",
              "  .colab-df-quickchart {\n",
              "    background-color: var(--bg-color);\n",
              "    border: none;\n",
              "    border-radius: 50%;\n",
              "    cursor: pointer;\n",
              "    display: none;\n",
              "    fill: var(--fill-color);\n",
              "    height: 32px;\n",
              "    padding: 0;\n",
              "    width: 32px;\n",
              "  }\n",
              "\n",
              "  .colab-df-quickchart:hover {\n",
              "    background-color: var(--hover-bg-color);\n",
              "    box-shadow: 0 1px 2px rgba(60, 64, 67, 0.3), 0 1px 3px 1px rgba(60, 64, 67, 0.15);\n",
              "    fill: var(--button-hover-fill-color);\n",
              "  }\n",
              "\n",
              "  .colab-df-quickchart-complete:disabled,\n",
              "  .colab-df-quickchart-complete:disabled:hover {\n",
              "    background-color: var(--disabled-bg-color);\n",
              "    fill: var(--disabled-fill-color);\n",
              "    box-shadow: none;\n",
              "  }\n",
              "\n",
              "  .colab-df-spinner {\n",
              "    border: 2px solid var(--fill-color);\n",
              "    border-color: transparent;\n",
              "    border-bottom-color: var(--fill-color);\n",
              "    animation:\n",
              "      spin 1s steps(1) infinite;\n",
              "  }\n",
              "\n",
              "  @keyframes spin {\n",
              "    0% {\n",
              "      border-color: transparent;\n",
              "      border-bottom-color: var(--fill-color);\n",
              "      border-left-color: var(--fill-color);\n",
              "    }\n",
              "    20% {\n",
              "      border-color: transparent;\n",
              "      border-left-color: var(--fill-color);\n",
              "      border-top-color: var(--fill-color);\n",
              "    }\n",
              "    30% {\n",
              "      border-color: transparent;\n",
              "      border-left-color: var(--fill-color);\n",
              "      border-top-color: var(--fill-color);\n",
              "      border-right-color: var(--fill-color);\n",
              "    }\n",
              "    40% {\n",
              "      border-color: transparent;\n",
              "      border-right-color: var(--fill-color);\n",
              "      border-top-color: var(--fill-color);\n",
              "    }\n",
              "    60% {\n",
              "      border-color: transparent;\n",
              "      border-right-color: var(--fill-color);\n",
              "    }\n",
              "    80% {\n",
              "      border-color: transparent;\n",
              "      border-right-color: var(--fill-color);\n",
              "      border-bottom-color: var(--fill-color);\n",
              "    }\n",
              "    90% {\n",
              "      border-color: transparent;\n",
              "      border-bottom-color: var(--fill-color);\n",
              "    }\n",
              "  }\n",
              "</style>\n",
              "\n",
              "      <script>\n",
              "        async function quickchart(key) {\n",
              "          const quickchartButtonEl =\n",
              "            document.querySelector('#' + key + ' button');\n",
              "          quickchartButtonEl.disabled = true;  // To prevent multiple clicks.\n",
              "          quickchartButtonEl.classList.add('colab-df-spinner');\n",
              "          try {\n",
              "            const charts = await google.colab.kernel.invokeFunction(\n",
              "                'suggestCharts', [key], {});\n",
              "          } catch (error) {\n",
              "            console.error('Error during call to suggestCharts:', error);\n",
              "          }\n",
              "          quickchartButtonEl.classList.remove('colab-df-spinner');\n",
              "          quickchartButtonEl.classList.add('colab-df-quickchart-complete');\n",
              "        }\n",
              "        (() => {\n",
              "          let quickchartButtonEl =\n",
              "            document.querySelector('#df-a5694ca8-60a4-47f5-b935-7c049150984a button');\n",
              "          quickchartButtonEl.style.display =\n",
              "            google.colab.kernel.accessAllowed ? 'block' : 'none';\n",
              "        })();\n",
              "      </script>\n",
              "    </div>\n",
              "\n",
              "  <div id=\"id_254eaaf4-dc3c-4f2d-ac8c-7a2859e42364\">\n",
              "    <style>\n",
              "      .colab-df-generate {\n",
              "        background-color: #E8F0FE;\n",
              "        border: none;\n",
              "        border-radius: 50%;\n",
              "        cursor: pointer;\n",
              "        display: none;\n",
              "        fill: #1967D2;\n",
              "        height: 32px;\n",
              "        padding: 0 0 0 0;\n",
              "        width: 32px;\n",
              "      }\n",
              "\n",
              "      .colab-df-generate:hover {\n",
              "        background-color: #E2EBFA;\n",
              "        box-shadow: 0px 1px 2px rgba(60, 64, 67, 0.3), 0px 1px 3px 1px rgba(60, 64, 67, 0.15);\n",
              "        fill: #174EA6;\n",
              "      }\n",
              "\n",
              "      [theme=dark] .colab-df-generate {\n",
              "        background-color: #3B4455;\n",
              "        fill: #D2E3FC;\n",
              "      }\n",
              "\n",
              "      [theme=dark] .colab-df-generate:hover {\n",
              "        background-color: #434B5C;\n",
              "        box-shadow: 0px 1px 3px 1px rgba(0, 0, 0, 0.15);\n",
              "        filter: drop-shadow(0px 1px 2px rgba(0, 0, 0, 0.3));\n",
              "        fill: #FFFFFF;\n",
              "      }\n",
              "    </style>\n",
              "    <button class=\"colab-df-generate\" onclick=\"generateWithVariable('df')\"\n",
              "            title=\"Generate code using this dataframe.\"\n",
              "            style=\"display:none;\">\n",
              "\n",
              "  <svg xmlns=\"http://www.w3.org/2000/svg\" height=\"24px\"viewBox=\"0 0 24 24\"\n",
              "       width=\"24px\">\n",
              "    <path d=\"M7,19H8.4L18.45,9,17,7.55,7,17.6ZM5,21V16.75L18.45,3.32a2,2,0,0,1,2.83,0l1.4,1.43a1.91,1.91,0,0,1,.58,1.4,1.91,1.91,0,0,1-.58,1.4L9.25,21ZM18.45,9,17,7.55Zm-12,3A5.31,5.31,0,0,0,4.9,8.1,5.31,5.31,0,0,0,1,6.5,5.31,5.31,0,0,0,4.9,4.9,5.31,5.31,0,0,0,6.5,1,5.31,5.31,0,0,0,8.1,4.9,5.31,5.31,0,0,0,12,6.5,5.46,5.46,0,0,0,6.5,12Z\"/>\n",
              "  </svg>\n",
              "    </button>\n",
              "    <script>\n",
              "      (() => {\n",
              "      const buttonEl =\n",
              "        document.querySelector('#id_254eaaf4-dc3c-4f2d-ac8c-7a2859e42364 button.colab-df-generate');\n",
              "      buttonEl.style.display =\n",
              "        google.colab.kernel.accessAllowed ? 'block' : 'none';\n",
              "\n",
              "      buttonEl.onclick = () => {\n",
              "        google.colab.notebook.generateWithVariable('df');\n",
              "      }\n",
              "      })();\n",
              "    </script>\n",
              "  </div>\n",
              "\n",
              "    </div>\n",
              "  </div>\n"
            ],
            "application/vnd.google.colaboratory.intrinsic+json": {
              "type": "dataframe",
              "variable_name": "df",
              "summary": "{\n  \"name\": \"df\",\n  \"rows\": 413,\n  \"fields\": [\n    {\n      \"column\": \"text\",\n      \"properties\": {\n        \"dtype\": \"string\",\n        \"num_unique_values\": 413,\n        \"samples\": [\n          \"bcapsule  the running gag pair  characters from all  kevin smiths films gets their own movie  nthe gags are sporadically funny  nit  more than occasionally funny for teens who are fond  scatological humor and antigay jokes  nthe plot  weak and the leads are not  particularly funny comic team  nthe little inside jokes and digs  other entertainment and particularly  kevin smith films are the best features  the film  nsadly for  they were just not funny enough  make the film worth watching  nthis feels like the high school skit that that the principal would not let the kids   talent night    and  turns out  had very good reasons     low        film needs  plot  nit needs characters for empathy value  nit needs  story and  emotional center  nif  film  just  chain  jokes  can only   good and any entertainment value will succeed  fail based  how funny the jokes are  nkevin smith has now made two satisfying films  clerks and chasing amy  nwith dogma  tried  make  philosophical religious comedy and mixed with  madcap romp  npeter cook and dudley moore did that very successfully with their bedazzled  nbut getting the combination  work  very hard   right and kevin smiths fecal monsters  dogma were not the way     nhis remaining two films  mallrats and his new jay and silent bob strike back are aimed squarely   teenage audience  njay and silent bob strike back   compendium  gay jokes  penis jokes  flatulence jokes  film pastiches  and injokes  nhow funny the jokes are will   subjective call  nfor   the vast majority  the jokes were just not very funny  nthere was not enough cleverness  variety  nit  funny  most once  twice  accuse someone  being gay  npenis jokes work only  many times  nshowing   minor characters  every kevin smith film jay and silent bob were  clever pair  human running gags  nthey were sort  the modern equivalents  naunton wayne and basil radford  the comic duo who showed  satirizing the english middle class  several good british postwar films including dead  night  the lady vanishes  and passport  pimlico  njay and silent bob were originally supposedly typical generation  stoners  nas the series wore  they had larger and larger parts  nin jay and silent bob strike back they are the leads  njay and silent bob  played  jason mewes and kevin smith  are chased away from the front  the convenience store where they were dealing drugs  clerks  nthis leaves them  loose ends  nthey are not sure what would  worthwhile   with their lives when they hear that  comic book with characters visually modeled  them will  adapted into  movie  nthey decide  devote their lives  wrecking the movie  getting some  that big movie industry cash  nso   off  hollywood  shake down the movie company and having adventures along the way  nthe film  mostly about their adventures  the road and when they get  hollywood nthe problem with this comedy team  that neither really pulls his weight  make the film funny  nsilent bob  being silent  can only contribute  the comedy  reacting with that very expressive face  his  nthis makes his piece  the comedy even less than  straight man like  dean martin  bud abbott would have  njay has   the comic  nhe could carry the load for both   were extremely inventive  nthe problem  that   not sufficiently funny  nhe  too bland   the comic half and his lines just  not show any comic flair  nso jay and silent bob are  long way from being  successful comic team  ntheir starring roles and the low humor make this  comedy for those young  mind and for people who can laugh  gags they have seen beforesometimes just minutes before  nlike dogma before   but definitely not like chasing amy  this film feels more like  amateurish skit than  real movie  ncertainly neither the plot nor the characters are  all involving  nthey are excuses for gags  many  which still fall flat  nit  dogma without any  the humorous theological content  nthe film does not offer much   adult audience   rate    the    scale and  low   the    scale  \",\n          \"bthe sweet hereafter could serve   textbook example  the difference between television movies and  real  movies  nconsider for  moment what  television producer would  with  book that features  fatal school bus accident and  lawyer out  sign  the bereaved  lots  hot sensationalism interrupted with breaks  sell beer and toothpaste  ntopflight writer and director atom egoyan delivers instead  film with tremendous power whose most notable trait  its touching subtlety  nbased   respected book  the same name  author russell banks  the movie represents  rethinking  the storys structure  not merely  literal adaptation  the novel  ntold  linear form  four narrators  the book  egoyans version happens instead  overlapping time sequences and without  narrator  nthe author  even  record  applauding egoyans changes  nin the press notes the books author describes the story    parable  lost children   nhe says  asks what  town does  the absence  its children  npicking   this  egoyan has  flashback  which  sitter  nicole burnell  played with grace  sarah polley  reads parts   the pied piper  from  old  illustrated book  her two charges  nperiodically throughout the picture  nicoles readings are heard  voiceover  nyou have never heard this moving poem read  sweetly   such  appropriate moment  nthey and the rest  the towns children come into harms way  some live and others are seriously injured  nand the entire small canadian town where the accident occurs  never the same again  nalthough the physical damage  inflicted mainly  the children  the adults bear the emotional scars  the loss  nian holm   arguably the best performance  his distinguished career  plays mitchell stephens   intense man  quiet misery  nmitchell  the outsider  the story set   small  snowencrusted community  the british columbian wilderness  nhis mission there   singular one   sign  the parents  that  can sue someone  anyone   their behalf  nif this seems crass  well    but mitchell approaches his job with the dedication   religious zealot  nthe story unfolds slowly and always believably  neach little aspect has its own fascination  nas mitchell interviews wendell and rita walker  played with quiet realism  maury chaykin and alberta watson   has  simple task  nhe wants them  suggest some model couple  the village who has  lost  child  that  can use that couple  form the basis  the suit  nwendell ticks off one town member after another and then   one can   small town  enumerates each persons numerous faults  nalthough the town   peyton place  people there  have their foibles  none  the best parents  the town appears   billy ansell  bruce greenwood   who rides his pickup behind the school bus everyday just   can wave goodbye  his kids  nwell  single parent billys fault  that  has regularly scheduled trysts with the married rita  nhis confessions  rita about his feelings  loss are one  the many heartfelt outpourings  the story  nthe accident itself   simple one   bus hitting  patch  ice  isnt shown until the middle  the picture  but  nevertheless  the mystery about  builds throughout the film  nalthough the picture   detective story  finding out exactly what happened   subtheme   movie that  primarily  character study   town gripped  tragedy  nas the injured bus driver  gabrielle rose  dolores driscoll plays the role   dedicated individual who loves kids with  passion and for whom the tragedy takes  special meaning  nto round out the story  mitchell has his own private tragedy  bear  nhis daughter zoe  caerthan banks    drug addict who has bounced  and out  one halfway house and recovery center after another  nfond  calling her dad  his cell phone  she can ask for money  help  she interrupts him  many emotionally charged moments   attempts  sign  the townsfolk      can help you   mitchell tries  reassure billy    not unless you can raise the dead   billy snaps back  nmitchells pitch  never  easy one and worrying about zoe only makes  harder   nmychael dannas haunting music sets the stage for tragedy  nthe cinematography  paul sarossy  sweeping  its outdoor grandeur  but    the warm  shadowy  intimate moments indoors where  works best  nthe show  which  ripe for emotional manipulation  never plays with its audience  nstill  when the house lights    you may feel   did   could barely breathe   was  overcome  the sum total  what  had witnessed  nmore than anything  the film  like  master painting  neach cinematic brush stroke  carefully laid down  egoyan with the beauty building with each dollop  paint  nwith the final color  place  the masterpiece  complete  and the ending credits roll  nthe sweet hereafter runs     nit  rated  for mature themes  sexuality and some profanity and would  fine teenagers  \",\n          \" think   know what you did last summer  the movie that scream and scream  could have been  nmind you  though   mean this  the worst possible way   know what you did last summer   typical slasher flic without the smarts  the screams  nas  result  its even worse than some  your better campy horror pictures  see nightmare  elm street  because  thinks its about thirty times smarter than    nbased   teen book  the same name and  disappointingly  adapted  scream scribe kevin williamson   know what you did last summer begins with appropriately angsty modern rock music combined with some startling cinematography   cliff along the ocean and  angsty sort sitting  the top  nthe appropriate mood being set  this  angsthorror for the     cut over  the july  parade   small north carolina town  nfrom there   see the blond  female protagonist  helen shivers  woodenly played  sarah michelle geller   getting crowned croaker queen  the blond male  hero   barry cox  woodenly played  ryan phillipe   and matched brunette pair  protagonists  julie james and ray bronson  woodenly played  party  fives jennifer love hewitt and freddie prinze    respectively  cheer her   nafter getting drunk   party  going   beach  wittily discuss urban legend and indulge  some foreshadowing  and having some meaningful sex   you believe what the characters say   the four run down some guy crossing the windy cliff road  night  nhis face  mangled  they cant tell who    and they come  the decision  dump him  the ocean    not ruin any  their future chances for success  the world  ncut  one year later  nthe lives  our protagonists have gone from annoying  bad  nmain brunette female  the bright one  the bunch  has been plagued with guilt and almost failed out  college  nblond female has forfeited her dreams  starring  guiding light  and now works  the family store  town  nbrunette male   fisherman  living off the land  nblond male has become  complete jerk and quarterback  some college football team  nthen  predictably  their past comes back  haunt them  nit all begins with  irrational murder  followed  some taunting  protagonists  the mysterious killer  bad acting   good actress  anne heche    improbable plot  bad acting  the main bad actors  some more killing  concluding   climactic scene  mostly climactic  the relief  the end  the movie  nall the while  the actors and actresses spout off bad lines  and main brunette male does his best keanu reeves imitation  nnot that the movie was without pleasure  ncount the illogical plot twists and bad lines for some fun  nmostly  though  note the costumes  main females and how trendily unattractive they make the otherwise eyecatching pair look  \"\n        ],\n        \"semantic_type\": \"\",\n        \"description\": \"\"\n      }\n    },\n    {\n      \"column\": \"class\",\n      \"properties\": {\n        \"dtype\": \"number\",\n        \"std\": 0,\n        \"min\": 0,\n        \"max\": 1,\n        \"num_unique_values\": 2,\n        \"samples\": [\n          0,\n          1\n        ],\n        \"semantic_type\": \"\",\n        \"description\": \"\"\n      }\n    }\n  ]\n}"
            }
          },
          "metadata": {},
          "execution_count": 5
        }
      ]
    },
    {
      "cell_type": "code",
      "execution_count": 6,
      "metadata": {
        "colab": {
          "base_uri": "https://localhost:8080/",
          "height": 423
        },
        "id": "0E_YIfe54CoB",
        "outputId": "8c26914f-e5fb-41aa-81ba-1ab079fdf125"
      },
      "outputs": [
        {
          "output_type": "execute_result",
          "data": {
            "text/plain": [
              "                                                  text  class\n",
              "0    binsane but inspired musical about alferd pack...      1\n",
              "1    bwritten david schow and john shirley based th...      0\n",
              "2    bmiramax disinvited online media from press sc...      0\n",
              "3    bin the astronauts wife charlize theron plays ...      0\n",
              "4    bone the most unwelcome thriller trends return...      0\n",
              "..                                                 ...    ...\n",
              "408  bhav plenty are told the beginning and reminde...      0\n",
              "409  bbrian palmas snake eyes stars nicolas cages e...      0\n",
              "410  bcontact theres moment late robert zemeckiss c...      1\n",
              "411  bthis film that was inclined like the outset t...      0\n",
              "412  bany remake alfred hitchcock film best uncerta...      0\n",
              "\n",
              "[413 rows x 2 columns]"
            ],
            "text/html": [
              "\n",
              "  <div id=\"df-9c9cf426-abd2-400f-a932-a17680032093\" class=\"colab-df-container\">\n",
              "    <div>\n",
              "<style scoped>\n",
              "    .dataframe tbody tr th:only-of-type {\n",
              "        vertical-align: middle;\n",
              "    }\n",
              "\n",
              "    .dataframe tbody tr th {\n",
              "        vertical-align: top;\n",
              "    }\n",
              "\n",
              "    .dataframe thead th {\n",
              "        text-align: right;\n",
              "    }\n",
              "</style>\n",
              "<table border=\"1\" class=\"dataframe\">\n",
              "  <thead>\n",
              "    <tr style=\"text-align: right;\">\n",
              "      <th></th>\n",
              "      <th>text</th>\n",
              "      <th>class</th>\n",
              "    </tr>\n",
              "  </thead>\n",
              "  <tbody>\n",
              "    <tr>\n",
              "      <th>0</th>\n",
              "      <td>binsane but inspired musical about alferd pack...</td>\n",
              "      <td>1</td>\n",
              "    </tr>\n",
              "    <tr>\n",
              "      <th>1</th>\n",
              "      <td>bwritten david schow and john shirley based th...</td>\n",
              "      <td>0</td>\n",
              "    </tr>\n",
              "    <tr>\n",
              "      <th>2</th>\n",
              "      <td>bmiramax disinvited online media from press sc...</td>\n",
              "      <td>0</td>\n",
              "    </tr>\n",
              "    <tr>\n",
              "      <th>3</th>\n",
              "      <td>bin the astronauts wife charlize theron plays ...</td>\n",
              "      <td>0</td>\n",
              "    </tr>\n",
              "    <tr>\n",
              "      <th>4</th>\n",
              "      <td>bone the most unwelcome thriller trends return...</td>\n",
              "      <td>0</td>\n",
              "    </tr>\n",
              "    <tr>\n",
              "      <th>...</th>\n",
              "      <td>...</td>\n",
              "      <td>...</td>\n",
              "    </tr>\n",
              "    <tr>\n",
              "      <th>408</th>\n",
              "      <td>bhav plenty are told the beginning and reminde...</td>\n",
              "      <td>0</td>\n",
              "    </tr>\n",
              "    <tr>\n",
              "      <th>409</th>\n",
              "      <td>bbrian palmas snake eyes stars nicolas cages e...</td>\n",
              "      <td>0</td>\n",
              "    </tr>\n",
              "    <tr>\n",
              "      <th>410</th>\n",
              "      <td>bcontact theres moment late robert zemeckiss c...</td>\n",
              "      <td>1</td>\n",
              "    </tr>\n",
              "    <tr>\n",
              "      <th>411</th>\n",
              "      <td>bthis film that was inclined like the outset t...</td>\n",
              "      <td>0</td>\n",
              "    </tr>\n",
              "    <tr>\n",
              "      <th>412</th>\n",
              "      <td>bany remake alfred hitchcock film best uncerta...</td>\n",
              "      <td>0</td>\n",
              "    </tr>\n",
              "  </tbody>\n",
              "</table>\n",
              "<p>413 rows × 2 columns</p>\n",
              "</div>\n",
              "    <div class=\"colab-df-buttons\">\n",
              "\n",
              "  <div class=\"colab-df-container\">\n",
              "    <button class=\"colab-df-convert\" onclick=\"convertToInteractive('df-9c9cf426-abd2-400f-a932-a17680032093')\"\n",
              "            title=\"Convert this dataframe to an interactive table.\"\n",
              "            style=\"display:none;\">\n",
              "\n",
              "  <svg xmlns=\"http://www.w3.org/2000/svg\" height=\"24px\" viewBox=\"0 -960 960 960\">\n",
              "    <path d=\"M120-120v-720h720v720H120Zm60-500h600v-160H180v160Zm220 220h160v-160H400v160Zm0 220h160v-160H400v160ZM180-400h160v-160H180v160Zm440 0h160v-160H620v160ZM180-180h160v-160H180v160Zm440 0h160v-160H620v160Z\"/>\n",
              "  </svg>\n",
              "    </button>\n",
              "\n",
              "  <style>\n",
              "    .colab-df-container {\n",
              "      display:flex;\n",
              "      gap: 12px;\n",
              "    }\n",
              "\n",
              "    .colab-df-convert {\n",
              "      background-color: #E8F0FE;\n",
              "      border: none;\n",
              "      border-radius: 50%;\n",
              "      cursor: pointer;\n",
              "      display: none;\n",
              "      fill: #1967D2;\n",
              "      height: 32px;\n",
              "      padding: 0 0 0 0;\n",
              "      width: 32px;\n",
              "    }\n",
              "\n",
              "    .colab-df-convert:hover {\n",
              "      background-color: #E2EBFA;\n",
              "      box-shadow: 0px 1px 2px rgba(60, 64, 67, 0.3), 0px 1px 3px 1px rgba(60, 64, 67, 0.15);\n",
              "      fill: #174EA6;\n",
              "    }\n",
              "\n",
              "    .colab-df-buttons div {\n",
              "      margin-bottom: 4px;\n",
              "    }\n",
              "\n",
              "    [theme=dark] .colab-df-convert {\n",
              "      background-color: #3B4455;\n",
              "      fill: #D2E3FC;\n",
              "    }\n",
              "\n",
              "    [theme=dark] .colab-df-convert:hover {\n",
              "      background-color: #434B5C;\n",
              "      box-shadow: 0px 1px 3px 1px rgba(0, 0, 0, 0.15);\n",
              "      filter: drop-shadow(0px 1px 2px rgba(0, 0, 0, 0.3));\n",
              "      fill: #FFFFFF;\n",
              "    }\n",
              "  </style>\n",
              "\n",
              "    <script>\n",
              "      const buttonEl =\n",
              "        document.querySelector('#df-9c9cf426-abd2-400f-a932-a17680032093 button.colab-df-convert');\n",
              "      buttonEl.style.display =\n",
              "        google.colab.kernel.accessAllowed ? 'block' : 'none';\n",
              "\n",
              "      async function convertToInteractive(key) {\n",
              "        const element = document.querySelector('#df-9c9cf426-abd2-400f-a932-a17680032093');\n",
              "        const dataTable =\n",
              "          await google.colab.kernel.invokeFunction('convertToInteractive',\n",
              "                                                    [key], {});\n",
              "        if (!dataTable) return;\n",
              "\n",
              "        const docLinkHtml = 'Like what you see? Visit the ' +\n",
              "          '<a target=\"_blank\" href=https://colab.research.google.com/notebooks/data_table.ipynb>data table notebook</a>'\n",
              "          + ' to learn more about interactive tables.';\n",
              "        element.innerHTML = '';\n",
              "        dataTable['output_type'] = 'display_data';\n",
              "        await google.colab.output.renderOutput(dataTable, element);\n",
              "        const docLink = document.createElement('div');\n",
              "        docLink.innerHTML = docLinkHtml;\n",
              "        element.appendChild(docLink);\n",
              "      }\n",
              "    </script>\n",
              "  </div>\n",
              "\n",
              "\n",
              "    <div id=\"df-c20ae494-b796-4671-a88e-a9d6f7587432\">\n",
              "      <button class=\"colab-df-quickchart\" onclick=\"quickchart('df-c20ae494-b796-4671-a88e-a9d6f7587432')\"\n",
              "                title=\"Suggest charts\"\n",
              "                style=\"display:none;\">\n",
              "\n",
              "<svg xmlns=\"http://www.w3.org/2000/svg\" height=\"24px\"viewBox=\"0 0 24 24\"\n",
              "     width=\"24px\">\n",
              "    <g>\n",
              "        <path d=\"M19 3H5c-1.1 0-2 .9-2 2v14c0 1.1.9 2 2 2h14c1.1 0 2-.9 2-2V5c0-1.1-.9-2-2-2zM9 17H7v-7h2v7zm4 0h-2V7h2v10zm4 0h-2v-4h2v4z\"/>\n",
              "    </g>\n",
              "</svg>\n",
              "      </button>\n",
              "\n",
              "<style>\n",
              "  .colab-df-quickchart {\n",
              "      --bg-color: #E8F0FE;\n",
              "      --fill-color: #1967D2;\n",
              "      --hover-bg-color: #E2EBFA;\n",
              "      --hover-fill-color: #174EA6;\n",
              "      --disabled-fill-color: #AAA;\n",
              "      --disabled-bg-color: #DDD;\n",
              "  }\n",
              "\n",
              "  [theme=dark] .colab-df-quickchart {\n",
              "      --bg-color: #3B4455;\n",
              "      --fill-color: #D2E3FC;\n",
              "      --hover-bg-color: #434B5C;\n",
              "      --hover-fill-color: #FFFFFF;\n",
              "      --disabled-bg-color: #3B4455;\n",
              "      --disabled-fill-color: #666;\n",
              "  }\n",
              "\n",
              "  .colab-df-quickchart {\n",
              "    background-color: var(--bg-color);\n",
              "    border: none;\n",
              "    border-radius: 50%;\n",
              "    cursor: pointer;\n",
              "    display: none;\n",
              "    fill: var(--fill-color);\n",
              "    height: 32px;\n",
              "    padding: 0;\n",
              "    width: 32px;\n",
              "  }\n",
              "\n",
              "  .colab-df-quickchart:hover {\n",
              "    background-color: var(--hover-bg-color);\n",
              "    box-shadow: 0 1px 2px rgba(60, 64, 67, 0.3), 0 1px 3px 1px rgba(60, 64, 67, 0.15);\n",
              "    fill: var(--button-hover-fill-color);\n",
              "  }\n",
              "\n",
              "  .colab-df-quickchart-complete:disabled,\n",
              "  .colab-df-quickchart-complete:disabled:hover {\n",
              "    background-color: var(--disabled-bg-color);\n",
              "    fill: var(--disabled-fill-color);\n",
              "    box-shadow: none;\n",
              "  }\n",
              "\n",
              "  .colab-df-spinner {\n",
              "    border: 2px solid var(--fill-color);\n",
              "    border-color: transparent;\n",
              "    border-bottom-color: var(--fill-color);\n",
              "    animation:\n",
              "      spin 1s steps(1) infinite;\n",
              "  }\n",
              "\n",
              "  @keyframes spin {\n",
              "    0% {\n",
              "      border-color: transparent;\n",
              "      border-bottom-color: var(--fill-color);\n",
              "      border-left-color: var(--fill-color);\n",
              "    }\n",
              "    20% {\n",
              "      border-color: transparent;\n",
              "      border-left-color: var(--fill-color);\n",
              "      border-top-color: var(--fill-color);\n",
              "    }\n",
              "    30% {\n",
              "      border-color: transparent;\n",
              "      border-left-color: var(--fill-color);\n",
              "      border-top-color: var(--fill-color);\n",
              "      border-right-color: var(--fill-color);\n",
              "    }\n",
              "    40% {\n",
              "      border-color: transparent;\n",
              "      border-right-color: var(--fill-color);\n",
              "      border-top-color: var(--fill-color);\n",
              "    }\n",
              "    60% {\n",
              "      border-color: transparent;\n",
              "      border-right-color: var(--fill-color);\n",
              "    }\n",
              "    80% {\n",
              "      border-color: transparent;\n",
              "      border-right-color: var(--fill-color);\n",
              "      border-bottom-color: var(--fill-color);\n",
              "    }\n",
              "    90% {\n",
              "      border-color: transparent;\n",
              "      border-bottom-color: var(--fill-color);\n",
              "    }\n",
              "  }\n",
              "</style>\n",
              "\n",
              "      <script>\n",
              "        async function quickchart(key) {\n",
              "          const quickchartButtonEl =\n",
              "            document.querySelector('#' + key + ' button');\n",
              "          quickchartButtonEl.disabled = true;  // To prevent multiple clicks.\n",
              "          quickchartButtonEl.classList.add('colab-df-spinner');\n",
              "          try {\n",
              "            const charts = await google.colab.kernel.invokeFunction(\n",
              "                'suggestCharts', [key], {});\n",
              "          } catch (error) {\n",
              "            console.error('Error during call to suggestCharts:', error);\n",
              "          }\n",
              "          quickchartButtonEl.classList.remove('colab-df-spinner');\n",
              "          quickchartButtonEl.classList.add('colab-df-quickchart-complete');\n",
              "        }\n",
              "        (() => {\n",
              "          let quickchartButtonEl =\n",
              "            document.querySelector('#df-c20ae494-b796-4671-a88e-a9d6f7587432 button');\n",
              "          quickchartButtonEl.style.display =\n",
              "            google.colab.kernel.accessAllowed ? 'block' : 'none';\n",
              "        })();\n",
              "      </script>\n",
              "    </div>\n",
              "\n",
              "  <div id=\"id_24569cb6-b661-4217-a9ef-fb4b66258669\">\n",
              "    <style>\n",
              "      .colab-df-generate {\n",
              "        background-color: #E8F0FE;\n",
              "        border: none;\n",
              "        border-radius: 50%;\n",
              "        cursor: pointer;\n",
              "        display: none;\n",
              "        fill: #1967D2;\n",
              "        height: 32px;\n",
              "        padding: 0 0 0 0;\n",
              "        width: 32px;\n",
              "      }\n",
              "\n",
              "      .colab-df-generate:hover {\n",
              "        background-color: #E2EBFA;\n",
              "        box-shadow: 0px 1px 2px rgba(60, 64, 67, 0.3), 0px 1px 3px 1px rgba(60, 64, 67, 0.15);\n",
              "        fill: #174EA6;\n",
              "      }\n",
              "\n",
              "      [theme=dark] .colab-df-generate {\n",
              "        background-color: #3B4455;\n",
              "        fill: #D2E3FC;\n",
              "      }\n",
              "\n",
              "      [theme=dark] .colab-df-generate:hover {\n",
              "        background-color: #434B5C;\n",
              "        box-shadow: 0px 1px 3px 1px rgba(0, 0, 0, 0.15);\n",
              "        filter: drop-shadow(0px 1px 2px rgba(0, 0, 0, 0.3));\n",
              "        fill: #FFFFFF;\n",
              "      }\n",
              "    </style>\n",
              "    <button class=\"colab-df-generate\" onclick=\"generateWithVariable('df')\"\n",
              "            title=\"Generate code using this dataframe.\"\n",
              "            style=\"display:none;\">\n",
              "\n",
              "  <svg xmlns=\"http://www.w3.org/2000/svg\" height=\"24px\"viewBox=\"0 0 24 24\"\n",
              "       width=\"24px\">\n",
              "    <path d=\"M7,19H8.4L18.45,9,17,7.55,7,17.6ZM5,21V16.75L18.45,3.32a2,2,0,0,1,2.83,0l1.4,1.43a1.91,1.91,0,0,1,.58,1.4,1.91,1.91,0,0,1-.58,1.4L9.25,21ZM18.45,9,17,7.55Zm-12,3A5.31,5.31,0,0,0,4.9,8.1,5.31,5.31,0,0,0,1,6.5,5.31,5.31,0,0,0,4.9,4.9,5.31,5.31,0,0,0,6.5,1,5.31,5.31,0,0,0,8.1,4.9,5.31,5.31,0,0,0,12,6.5,5.46,5.46,0,0,0,6.5,12Z\"/>\n",
              "  </svg>\n",
              "    </button>\n",
              "    <script>\n",
              "      (() => {\n",
              "      const buttonEl =\n",
              "        document.querySelector('#id_24569cb6-b661-4217-a9ef-fb4b66258669 button.colab-df-generate');\n",
              "      buttonEl.style.display =\n",
              "        google.colab.kernel.accessAllowed ? 'block' : 'none';\n",
              "\n",
              "      buttonEl.onclick = () => {\n",
              "        google.colab.notebook.generateWithVariable('df');\n",
              "      }\n",
              "      })();\n",
              "    </script>\n",
              "  </div>\n",
              "\n",
              "    </div>\n",
              "  </div>\n"
            ],
            "application/vnd.google.colaboratory.intrinsic+json": {
              "type": "dataframe",
              "variable_name": "df",
              "summary": "{\n  \"name\": \"df\",\n  \"rows\": 413,\n  \"fields\": [\n    {\n      \"column\": \"text\",\n      \"properties\": {\n        \"dtype\": \"string\",\n        \"num_unique_values\": 413,\n        \"samples\": [\n          \"bcapsule the running gag pair characters from all kevin smiths films gets their own movie nthe gags are sporadically funny nit more than occasionally funny for teens who are fond scatological humor and antigay jokes nthe plot weak and the leads are not particularly funny comic team nthe little inside jokes and digs other entertainment and particularly kevin smith films are the best features the film nsadly for they were just not funny enough make the film worth watching nthis feels like the high school skit that that the principal would not let the kids talent night and turns out had very good reasons low film needs plot nit needs characters for empathy value nit needs story and emotional center nif film just chain jokes can only good and any entertainment value will succeed fail based how funny the jokes are nkevin smith has now made two satisfying films clerks and chasing amy nwith dogma tried make philosophical religious comedy and mixed with madcap romp npeter cook and dudley moore did that very successfully with their bedazzled nbut getting the combination work very hard right and kevin smiths fecal monsters dogma were not the way nhis remaining two films mallrats and his new jay and silent bob strike back are aimed squarely teenage audience njay and silent bob strike back compendium gay jokes penis jokes flatulence jokes film pastiches and injokes nhow funny the jokes are will subjective call nfor the vast majority the jokes were just not very funny nthere was not enough cleverness variety nit funny most once twice accuse someone being gay npenis jokes work only many times nshowing minor characters every kevin smith film jay and silent bob were clever pair human running gags nthey were sort the modern equivalents naunton wayne and basil radford the comic duo who showed satirizing the english middle class several good british postwar films including dead night the lady vanishes and passport pimlico njay and silent bob were originally supposedly typical generation stoners nas the series wore they had larger and larger parts nin jay and silent bob strike back they are the leads njay and silent bob played jason mewes and kevin smith are chased away from the front the convenience store where they were dealing drugs clerks nthis leaves them loose ends nthey are not sure what would worthwhile with their lives when they hear that comic book with characters visually modeled them will adapted into movie nthey decide devote their lives wrecking the movie getting some that big movie industry cash nso off hollywood shake down the movie company and having adventures along the way nthe film mostly about their adventures the road and when they get hollywood nthe problem with this comedy team that neither really pulls his weight make the film funny nsilent bob being silent can only contribute the comedy reacting with that very expressive face his nthis makes his piece the comedy even less than straight man like dean martin bud abbott would have njay has the comic nhe could carry the load for both were extremely inventive nthe problem that not sufficiently funny nhe too bland the comic half and his lines just not show any comic flair nso jay and silent bob are long way from being successful comic team ntheir starring roles and the low humor make this comedy for those young mind and for people who can laugh gags they have seen beforesometimes just minutes before nlike dogma before but definitely not like chasing amy this film feels more like amateurish skit than real movie ncertainly neither the plot nor the characters are all involving nthey are excuses for gags many which still fall flat nit dogma without any the humorous theological content nthe film does not offer much adult audience rate the scale and low the scale \",\n          \"bthe sweet hereafter could serve textbook example the difference between television movies and real movies nconsider for moment what television producer would with book that features fatal school bus accident and lawyer out sign the bereaved lots hot sensationalism interrupted with breaks sell beer and toothpaste ntopflight writer and director atom egoyan delivers instead film with tremendous power whose most notable trait its touching subtlety nbased respected book the same name author russell banks the movie represents rethinking the storys structure not merely literal adaptation the novel ntold linear form four narrators the book egoyans version happens instead overlapping time sequences and without narrator nthe author even record applauding egoyans changes nin the press notes the books author describes the story parable lost children nhe says asks what town does the absence its children npicking this egoyan has flashback which sitter nicole burnell played with grace sarah polley reads parts the pied piper from old illustrated book her two charges nperiodically throughout the picture nicoles readings are heard voiceover nyou have never heard this moving poem read sweetly such appropriate moment nthey and the rest the towns children come into harms way some live and others are seriously injured nand the entire small canadian town where the accident occurs never the same again nalthough the physical damage inflicted mainly the children the adults bear the emotional scars the loss nian holm arguably the best performance his distinguished career plays mitchell stephens intense man quiet misery nmitchell the outsider the story set small snowencrusted community the british columbian wilderness nhis mission there singular one sign the parents that can sue someone anyone their behalf nif this seems crass well but mitchell approaches his job with the dedication religious zealot nthe story unfolds slowly and always believably neach little aspect has its own fascination nas mitchell interviews wendell and rita walker played with quiet realism maury chaykin and alberta watson has simple task nhe wants them suggest some model couple the village who has lost child that can use that couple form the basis the suit nwendell ticks off one town member after another and then one can small town enumerates each persons numerous faults nalthough the town peyton place people there have their foibles none the best parents the town appears billy ansell bruce greenwood who rides his pickup behind the school bus everyday just can wave goodbye his kids nwell single parent billys fault that has regularly scheduled trysts with the married rita nhis confessions rita about his feelings loss are one the many heartfelt outpourings the story nthe accident itself simple one bus hitting patch ice isnt shown until the middle the picture but nevertheless the mystery about builds throughout the film nalthough the picture detective story finding out exactly what happened subtheme movie that primarily character study town gripped tragedy nas the injured bus driver gabrielle rose dolores driscoll plays the role dedicated individual who loves kids with passion and for whom the tragedy takes special meaning nto round out the story mitchell has his own private tragedy bear nhis daughter zoe caerthan banks drug addict who has bounced and out one halfway house and recovery center after another nfond calling her dad his cell phone she can ask for money help she interrupts him many emotionally charged moments attempts sign the townsfolk can help you mitchell tries reassure billy not unless you can raise the dead billy snaps back nmitchells pitch never easy one and worrying about zoe only makes harder nmychael dannas haunting music sets the stage for tragedy nthe cinematography paul sarossy sweeping its outdoor grandeur but the warm shadowy intimate moments indoors where works best nthe show which ripe for emotional manipulation never plays with its audience nstill when the house lights you may feel did could barely breathe was overcome the sum total what had witnessed nmore than anything the film like master painting neach cinematic brush stroke carefully laid down egoyan with the beauty building with each dollop paint nwith the final color place the masterpiece complete and the ending credits roll nthe sweet hereafter runs nit rated for mature themes sexuality and some profanity and would fine teenagers \",\n          \" think know what you did last summer the movie that scream and scream could have been nmind you though mean this the worst possible way know what you did last summer typical slasher flic without the smarts the screams nas result its even worse than some your better campy horror pictures see nightmare elm street because thinks its about thirty times smarter than nbased teen book the same name and disappointingly adapted scream scribe kevin williamson know what you did last summer begins with appropriately angsty modern rock music combined with some startling cinematography cliff along the ocean and angsty sort sitting the top nthe appropriate mood being set this angsthorror for the cut over the july parade small north carolina town nfrom there see the blond female protagonist helen shivers woodenly played sarah michelle geller getting crowned croaker queen the blond male hero barry cox woodenly played ryan phillipe and matched brunette pair protagonists julie james and ray bronson woodenly played party fives jennifer love hewitt and freddie prinze respectively cheer her nafter getting drunk party going beach wittily discuss urban legend and indulge some foreshadowing and having some meaningful sex you believe what the characters say the four run down some guy crossing the windy cliff road night nhis face mangled they cant tell who and they come the decision dump him the ocean not ruin any their future chances for success the world ncut one year later nthe lives our protagonists have gone from annoying bad nmain brunette female the bright one the bunch has been plagued with guilt and almost failed out college nblond female has forfeited her dreams starring guiding light and now works the family store town nbrunette male fisherman living off the land nblond male has become complete jerk and quarterback some college football team nthen predictably their past comes back haunt them nit all begins with irrational murder followed some taunting protagonists the mysterious killer bad acting good actress anne heche improbable plot bad acting the main bad actors some more killing concluding climactic scene mostly climactic the relief the end the movie nall the while the actors and actresses spout off bad lines and main brunette male does his best keanu reeves imitation nnot that the movie was without pleasure ncount the illogical plot twists and bad lines for some fun nmostly though note the costumes main females and how trendily unattractive they make the otherwise eyecatching pair look \"\n        ],\n        \"semantic_type\": \"\",\n        \"description\": \"\"\n      }\n    },\n    {\n      \"column\": \"class\",\n      \"properties\": {\n        \"dtype\": \"number\",\n        \"std\": 0,\n        \"min\": 0,\n        \"max\": 1,\n        \"num_unique_values\": 2,\n        \"samples\": [\n          0,\n          1\n        ],\n        \"semantic_type\": \"\",\n        \"description\": \"\"\n      }\n    }\n  ]\n}"
            }
          },
          "metadata": {},
          "execution_count": 6
        }
      ],
      "source": [
        "# applichiamo la regex\n",
        "df = clean_column(df, 'text', patterns)\n",
        "df"
      ]
    },
    {
      "cell_type": "code",
      "execution_count": 7,
      "metadata": {
        "colab": {
          "base_uri": "https://localhost:8080/",
          "height": 156
        },
        "id": "O4Zfz_6K4CoB",
        "outputId": "888f39a3-6617-4a5c-99e8-bb660e52ae2e"
      },
      "outputs": [
        {
          "output_type": "execute_result",
          "data": {
            "text/plain": [
              "'binsane but inspired musical about alferd packer the first man ever tried for cannibalism america nas the story unfolds learn what events led packer trey parker supposedly killing and eating the five men who got lost while accompanying him through the mountains colorado search gold nthroughout packer must contend with evil trappers bent stealing his prized horse tribe ute indians that doesnt seem quite the mark and terrible winter storm that leads the eventual cannibalism nparker obviously knows his musicals very well because the viewer also treated some the most maddeningly catchy songs appear film would accomplish this again his postcannibal nmusical motion picture south park bigger longer and uncut napart from the inherent interest seeing pre south park parker and stone their first effort cannibal nalso offers some pretty decent laughs nthe aforementioned ute indian tribe that packers group encounters definite highlight are two rousing musical numbers about snowmen one which ends comedically deadly note nstones humphrey character steals the show especially when complaining about the prospect having eat butt revealing whats underneath his muff cap njason mchughs character miller the stand out performance though offers hilarious dissenting voice the proceedings nas mentioned before parkers songs are very catchy nyoull hard pressed get its shpadoinkle day out your head once youve heard incidentally the braniff logo that appears the end every south park episode scored with few notes from this song nother songs youll find yourself humming include when was top you love ballad the trappers song the villains leit motif and hang the bastard the rousing finale nthankfully none these songs are quite embarrassing find yourself singing public south park bigger longer uncuts songs are nreleased pickup through troma studios the film available videocassette and dvd nthe videocassette includes intro the beautiful jane jensen and interview segment with lloyd kaufman discussing his admiration for parker and stone and the fact that they had been hired for zucker brothers film which turned out the hilarious baseketball nthere are also multiple trailers for upcoming troma films nas for the dvd nwell thats different story nprobably one the best dvd packages the year and potentially all time cannibal nthe musical nthe dvd massive achievement npresented full frame only the disc has the usual troma inclusions the tour troma the troma intelligence test trailers for upcoming releases but where the disc truly shines its cannibal nspecific extras nthe first thing must note the transfer about beautiful any ive ever seen any disc nthe picture crisp clear and free from any noticeable artifacts nadd that one the funniest commentary tracks have ever heard featuring trey parker matt stone jason mchugh dian bachar and andy kemler getting drunker and drunker the track continues and you still havent scratched the surface the extras ntheres also behind the scenes footage the shooting the film clip with trey matt and lemmy the band motorhead from the film terror firmer index for easy location all the songs the film and finally index all the songs performed the cast stage production cannibal nits good see this film finally get the treatment deserves nkudos the entire production staff troma and aix for making one the most entertaining dvds have seen very long time '"
            ],
            "application/vnd.google.colaboratory.intrinsic+json": {
              "type": "string"
            }
          },
          "metadata": {},
          "execution_count": 7
        }
      ],
      "source": [
        "df['text'][0]\n",
        "# type(df['text'][0])"
      ]
    },
    {
      "cell_type": "code",
      "execution_count": 8,
      "metadata": {
        "id": "jdMWINed4CoC"
      },
      "outputs": [],
      "source": [
        "text = list(map(str, df['text']))\n",
        "text = ''.join(text)\n",
        "# type(text)"
      ]
    },
    {
      "cell_type": "markdown",
      "source": [
        "## 1. SENTIMENT ANALYSIS"
      ],
      "metadata": {
        "id": "5ltEbe8Zb9NF"
      }
    },
    {
      "cell_type": "code",
      "source": [
        "!pip install spacytextblob -q\n",
        "import spacy\n",
        "from spacytextblob.spacytextblob import SpacyTextBlob\n",
        "\n",
        "nlp = spacy.load('en_core_web_sm',disable=[\"tagger\", \"parser\", \"attribute_ruler\", \"lemmatizer\",\"ner\"])\n",
        "nlp.add_pipe('spacytextblob')\n",
        "\n",
        "nlp.pipeline"
      ],
      "metadata": {
        "colab": {
          "base_uri": "https://localhost:8080/"
        },
        "id": "dDnop8eKcItN",
        "outputId": "6e8f615c-1a3d-43d5-edfc-e88b294f3541"
      },
      "execution_count": 10,
      "outputs": [
        {
          "output_type": "execute_result",
          "data": {
            "text/plain": [
              "[('tok2vec', <spacy.pipeline.tok2vec.Tok2Vec at 0x7f2d6470dcd0>),\n",
              " ('spacytextblob',\n",
              "  <spacytextblob.spacytextblob.SpacyTextBlob at 0x7f2d650e9b50>)]"
            ]
          },
          "metadata": {},
          "execution_count": 10
        }
      ]
    },
    {
      "cell_type": "code",
      "source": [
        "# texto de prueba (se puede bipasear!!):\n",
        "text ='I love this so very much, it is amazing and beautiful'\n",
        "doc = nlp(text)\n",
        "\n",
        "def sentiment(testo):\n",
        "    doc = nlp(testo)\n",
        "    return doc._.blob.polarity\n",
        "\n",
        "sentiment(text)"
      ],
      "metadata": {
        "id": "sxWONPh8cYrR"
      },
      "execution_count": null,
      "outputs": []
    },
    {
      "cell_type": "code",
      "source": [
        "df['sentiment_value'] = df['text'].apply(sentiment)\n",
        "df.head(5)"
      ],
      "metadata": {
        "id": "V16SKi_Ac-AM"
      },
      "execution_count": null,
      "outputs": []
    },
    {
      "cell_type": "code",
      "source": [
        "def sentiment_class(x):\n",
        "    if x > 0.3:\n",
        "        return 'positivo'\n",
        "    elif x < -0.3:\n",
        "        return 'negativo'\n",
        "    else:\n",
        "        return 'neutro'"
      ],
      "metadata": {
        "id": "yPznz_e7diQH"
      },
      "execution_count": null,
      "outputs": []
    },
    {
      "cell_type": "code",
      "source": [
        "df['sentiment'] = df['sentiment_value'].apply(sentiment_class)\n",
        "df"
      ],
      "metadata": {
        "id": "8yQghFDqeEwn"
      },
      "execution_count": null,
      "outputs": []
    },
    {
      "cell_type": "markdown",
      "source": [
        "## 2. EDA"
      ],
      "metadata": {
        "id": "bLFSEMiqglYn"
      }
    },
    {
      "cell_type": "code",
      "source": [
        "# Lista de positivos y negativos:\n",
        "positive_text = ''.join(df[df['sentiment'] == 'positivo']['text'].to_list())\n",
        "negative_text = ''.join(df[df['sentiment'] == 'negativo']['text'].to_list())\n",
        "\n",
        "print(f'Texto positivo: {positive_text}')\n",
        "print(f'Texto negativo: {negative_text}')"
      ],
      "metadata": {
        "id": "09oK1fb5fCvD"
      },
      "execution_count": null,
      "outputs": []
    },
    {
      "cell_type": "code",
      "source": [
        "# WORDCLOUD:\n",
        "\n",
        "# !pip install wordcloud -q\n",
        "from wordcloud import WordCloud, STOPWORDS\n",
        "import matplotlib.pyplot as plt"
      ],
      "metadata": {
        "id": "142JFDQ4gI4w"
      },
      "execution_count": null,
      "outputs": []
    },
    {
      "cell_type": "code",
      "source": [
        "stopwords = set(STOPWORDS)\n",
        "\n",
        "# agrego stopwords:\n",
        "# stopwords.update(['palabra1','palabra2', ...])"
      ],
      "metadata": {
        "id": "OZlSFSEkgIoo"
      },
      "execution_count": null,
      "outputs": []
    },
    {
      "cell_type": "code",
      "source": [
        "# funzione di plotting\n",
        "\n",
        "def wordcloud_funct(text,color, stopwords,title):\n",
        "    wordcloud1 = WordCloud(width = 3000, height = 2000,background_color=color,stopwords=stopwords)\n",
        "    wordcloud1.generate(text)\n",
        "\n",
        "    plt.figure(figsize=(8, 6))\n",
        "    plt.title(title)\n",
        "    plt.imshow(wordcloud1, interpolation='bilinear')\n",
        "    plt.axis(\"off\")"
      ],
      "metadata": {
        "id": "xKR4EFZkgh8S"
      },
      "execution_count": null,
      "outputs": []
    },
    {
      "cell_type": "code",
      "source": [
        "\"\"\"\n",
        "otros parametros de wordcloud:\n",
        "wordcloud = WordCloud(background_color = 'black', width = 800, height = 400,\n",
        "                      max_words = 180, contour_width = 3,\n",
        "                      max_font_size = 80, contour_color = 'steelblue',\n",
        "                      stopwords = STOPWORDS, random_state = 667)\n",
        "\"\"\""
      ],
      "metadata": {
        "id": "6uJp31SMguMJ"
      },
      "execution_count": null,
      "outputs": []
    },
    {
      "cell_type": "code",
      "source": [
        "# Wordcloud positivo:\n",
        "wordcloud_funct(positive_text,'white',stopwords,'positivo')"
      ],
      "metadata": {
        "id": "oiPQC7H4g1K6"
      },
      "execution_count": null,
      "outputs": []
    },
    {
      "cell_type": "code",
      "source": [
        "# Wordcloud negativo:\n",
        "wordcloud_funct(negative_text,'black',stopwords,'negativo')"
      ],
      "metadata": {
        "id": "gw7JNtnrg54l"
      },
      "execution_count": null,
      "outputs": []
    },
    {
      "cell_type": "markdown",
      "source": [
        "## 3. PREPROCESSING"
      ],
      "metadata": {
        "id": "m7NWwraEg0C5"
      }
    },
    {
      "cell_type": "code",
      "source": [
        "# Target: LabelEncoder\n",
        "# Hay que hacer esto???? Luego ponerlo en la pipe?????????????????????????????????????????????????????????????\n",
        "# PROBAR CON OTRO DATASET!!!!!!!!!!!!!!!!!!!!!!!!!!!!!!!!!!!!!!!!!!!!!!!!!!!!!!!!!!!!!!!!!!!!!!!!!!!!!!!!!!!!!\n",
        "\n",
        "from sklearn.preprocessing import LabelEncoder\n",
        "\n",
        "le = LabelEncoder()\n",
        "df['sentiment_label'] = le.fit_transform(df['sentiment'])\n",
        "df\n",
        "\n",
        "# asigna los numeros segun el orden alfabetico de las labels. Si quiero visualizarlo:\n",
        "# print(le.classes_)"
      ],
      "metadata": {
        "id": "wdUsgjWmkd6k"
      },
      "execution_count": null,
      "outputs": []
    },
    {
      "cell_type": "code",
      "execution_count": null,
      "metadata": {
        "id": "kaAQvnPP4CoD"
      },
      "outputs": [],
      "source": [
        "##STEP 3: Definire X e y (features testuali e Target)\n",
        "\n",
        "X = df['text']\n",
        "y = df['sentiment_label']"
      ]
    },
    {
      "cell_type": "code",
      "execution_count": null,
      "metadata": {
        "id": "n7mAwGWi4CoE"
      },
      "outputs": [],
      "source": [
        "##STEP 4: Vettorizzazione - Bag of Words\n",
        "from sklearn.feature_extraction.text import CountVectorizer\n",
        "\n",
        "vectorizer = CountVectorizer(max_features=15000,    # toma solo las 15,000 palabras más frecuentes\n",
        "                             min_df=5,              # elimina palabras que aparecen en menos de 5 documentos.\n",
        "                             max_df=0.7,            # elimina palabras que aparecen en más del 70% de los documentos.\n",
        "                             stop_words=\"english\")\n",
        "\n",
        "X_vect = vectorizer.fit_transform(X).toarray()\n",
        "X_vect"
      ]
    },
    {
      "cell_type": "code",
      "source": [
        "# SI QUIERO AGREGAR MIS PROPIAS STOP_WORDS:\n",
        "\n",
        "from sklearn.feature_extraction.text import CountVectorizer, ENGLISH_STOP_WORDS\n",
        "\n",
        "# Lista de stop words existentes (\"english\") + tus propias stop words\n",
        "stopwords_nuevas = [\"palabra1\", \"palabra2\", \"palabra3\"]\n",
        "stopwords_pers = list(ENGLISH_STOP_WORDS) + stopwords_nuevas\n",
        "\n",
        "# Crear el vectorizador con tus stop words\n",
        "vectorizer = CountVectorizer(max_features = 15000, min_df = 5, max_df = 0.7, stop_words = stopwords_pers)\n",
        "\n",
        "# Aplicar el vectorizador\n",
        "X_vect = vectorizer.fit_transform(X).toarray()\n",
        "X_vect"
      ],
      "metadata": {
        "id": "DKsnIwqQ9p4O"
      },
      "execution_count": null,
      "outputs": []
    },
    {
      "cell_type": "code",
      "execution_count": null,
      "metadata": {
        "id": "9zVf8fmY8fUN"
      },
      "outputs": [],
      "source": [
        "# X_vect.shape"
      ]
    },
    {
      "cell_type": "code",
      "execution_count": null,
      "metadata": {
        "id": "kg3D1Nin4CoE"
      },
      "outputs": [],
      "source": [
        "##STEP 5: TF-IDF\n",
        "from sklearn.feature_extraction.text import TfidfTransformer\n",
        "\n",
        "tfidfconverter = TfidfTransformer()\n",
        "X_tfidf = tfidfconverter.fit_transform(X_vect).toarray()\n",
        "X_tfidf"
      ]
    },
    {
      "cell_type": "code",
      "execution_count": null,
      "metadata": {
        "id": "aV0eWRfs8Ydd"
      },
      "outputs": [],
      "source": [
        "# X_tfidf.shape"
      ]
    },
    {
      "cell_type": "code",
      "execution_count": null,
      "metadata": {
        "id": "oIXXoAxp4CoF"
      },
      "outputs": [],
      "source": [
        "##STEP 6: Split Training and Test (lo hacemos con X_tfidf!!!)\n",
        "\n",
        "from sklearn.model_selection import train_test_split\n",
        "\n",
        "X_train, X_test, y_train, y_test = train_test_split(X_tfidf, y,\n",
        "                                                    test_size=0.3,\n",
        "                                                    random_state=667,\n",
        "                                                    stratify=y\n",
        "                                                    )"
      ]
    },
    {
      "cell_type": "markdown",
      "source": [
        "## 7. MODELLAZIONE\n",
        "\n",
        "En este template:\n",
        "- RandomForestClassifier (ej. del proff)\n",
        "- MultinomialNB (ej. del proff)\n",
        "- GradientBoostingClassifier    (tiene mejor rendimiento que Random Forest, pero más lento. Puede funcionar bien con buen preprocesado)\n",
        "- LogisticRegression (uno de los mejores clasificadores para texto: rápido, efectivo con datos dispersos como TF-IDF)\n",
        "- SGDClassifier (ej. del proff)"
      ],
      "metadata": {
        "id": "VThrCfQTU8T0"
      }
    },
    {
      "cell_type": "markdown",
      "source": [
        "### Clasificadores por separado:"
      ],
      "metadata": {
        "id": "eRls6dMAgB-T"
      }
    },
    {
      "cell_type": "code",
      "execution_count": null,
      "metadata": {
        "id": "IH_D7VxX4CoF"
      },
      "outputs": [],
      "source": [
        "# RandomForestClassifier:\n",
        "\n",
        "from sklearn.metrics import accuracy_score\n",
        "from sklearn.ensemble import RandomForestClassifier\n",
        "\n",
        "classifier = RandomForestClassifier(n_estimators=1000, random_state=667,max_depth=5)\n",
        "classifier.fit(X_train, y_train)\n",
        "\n",
        "# accuracy score on the test data\n",
        "y_pred = classifier.predict(X_test)\n",
        "test_data_accuracy = accuracy_score(y_pred, y_test)\n",
        "test_data_accuracy"
      ]
    },
    {
      "cell_type": "code",
      "execution_count": null,
      "metadata": {
        "id": "TNfR-Rom4CoF"
      },
      "outputs": [],
      "source": [
        "# MultinomialNB:\n",
        "\n",
        "from sklearn.naive_bayes import MultinomialNB\n",
        "\n",
        "classifier = MultinomialNB(alpha=0.1)\n",
        "classifier.fit(X_train, y_train)\n",
        "\n",
        "# accuracy score on the test data\n",
        "y_pred = classifier.predict(X_test)\n",
        "test_data_accuracy = accuracy_score(y_pred, y_test)\n",
        "test_data_accuracy"
      ]
    },
    {
      "cell_type": "code",
      "source": [
        "# GradientBoostingClassifier:\n",
        "\n",
        "from sklearn.ensemble import GradientBoostingClassifier\n",
        "\n",
        "classifier = GradientBoostingClassifier(n_estimators=50)\n",
        "classifier.fit(X_train, y_train)\n",
        "\n",
        "# accuracy score on the test data\n",
        "y_pred = classifier.predict(X_test)\n",
        "test_data_accuracy = accuracy_score(y_pred, y_test)\n",
        "test_data_accuracy"
      ],
      "metadata": {
        "id": "E_AErrP0Vdnx"
      },
      "execution_count": null,
      "outputs": []
    },
    {
      "cell_type": "code",
      "source": [
        "# LogisticRegression:\n",
        "\n",
        "from sklearn.linear_model import LogisticRegression\n",
        "\n",
        "classifier = LogisticRegression(max_iter=1000)\n",
        "classifier.fit(X_train, y_train)\n",
        "\n",
        "# accuracy score on the test data\n",
        "y_pred = classifier.predict(X_test)\n",
        "test_data_accuracy = accuracy_score(y_pred, y_test)\n",
        "test_data_accuracy"
      ],
      "metadata": {
        "id": "vcTLcZ4pVoaA"
      },
      "execution_count": null,
      "outputs": []
    },
    {
      "cell_type": "code",
      "execution_count": null,
      "metadata": {
        "id": "haxXM4iD4CoG"
      },
      "outputs": [],
      "source": [
        "# SGDClassifier:\n",
        "\n",
        "from sklearn.linear_model import SGDClassifier\n",
        "\n",
        "classifier =SGDClassifier(loss='hinge', penalty='l2',alpha=1e-3, random_state=667, max_iter=5, tol=None)\n",
        "classifier.fit(X_train, y_train)\n",
        "\n",
        "y_pred = classifier.predict(X_test)\n",
        "test_data_accuracy = accuracy_score(y_test,y_pred)\n",
        "test_data_accuracy"
      ]
    },
    {
      "cell_type": "code",
      "execution_count": null,
      "metadata": {
        "id": "Z3WF__-P4CoF"
      },
      "outputs": [],
      "source": [
        "# Classification report (si hago el entrenamiento por separado, lo hace del ultimo!)\n",
        "\n",
        "# labels = ['Class0', 'Class1']\n",
        "from sklearn.metrics import classification_report\n",
        "print(classification_report(y_test, y_pred),\n",
        "      # target_names=labels)\n",
        "      )\n",
        "\n",
        "# si quiero saber cuales son mis etiquetas: df['label'].unique(). En este caso estan comentadas, porque en la columna se llaman 0 y 1."
      ]
    },
    {
      "cell_type": "code",
      "source": [
        "import seaborn as sns\n",
        "import matplotlib.pyplot as plt\n",
        "from sklearn.metrics import confusion_matrix\n",
        "\n",
        "cm = confusion_matrix(y_test, y_pred)\n",
        "plt.figure(figsize = (7,6))\n",
        "sns.heatmap(cm,cmap= \"Blues\",\n",
        "            linecolor = 'black',\n",
        "            linewidth = 1,\n",
        "            annot = True,\n",
        "            fmt='',\n",
        "            # formato del texto que se muestra cuando annot = True. fmt='' -> valor sin formato, fmt='' -> entero, fmt='.2f' -> decimal con dos cifras\n",
        "            xticklabels = classifier.classes_,\n",
        "            yticklabels = classifier.classes_)\n",
        "            # classifier.classes_ es un atributo de muchos clasificadores de scikit-learn (como LogisticRegression, SGDClassifier, RandomForestClassifier)\n",
        "            # que contiene una lista de las clases conocidas por el modelo, en el orden en que fueron vistas durante el entrenamiento.\n",
        "            # Asegura que los ticks en el eje coincidan con el orden real de las clases.\n",
        "\n",
        "plt.xlabel(\"Predicted\")\n",
        "plt.ylabel(\"Actual\")"
      ],
      "metadata": {
        "id": "XIkLBt9jb-_d"
      },
      "execution_count": null,
      "outputs": []
    },
    {
      "cell_type": "markdown",
      "source": [
        "### 'All in one' classifiers"
      ],
      "metadata": {
        "id": "r09TZwgoa4Ed"
      }
    },
    {
      "cell_type": "code",
      "source": [
        "from sklearn.metrics import accuracy_score\n",
        "\n",
        "from sklearn.ensemble import RandomForestClassifier\n",
        "from sklearn.naive_bayes import MultinomialNB\n",
        "from sklearn.ensemble import GradientBoostingClassifier\n",
        "from sklearn.linear_model import LogisticRegression\n",
        "from sklearn.linear_model import SGDClassifier\n",
        "\n",
        "classifiers = [RandomForestClassifier(n_estimators=200,random_state=667, max_depth=5),\n",
        "               MultinomialNB(alpha=0.1),\n",
        "               GradientBoostingClassifier(n_estimators=50),\n",
        "               LogisticRegression(max_iter=1000),\n",
        "               SGDClassifier(loss='hinge', penalty='l2',alpha=1e-3, random_state=667, max_iter=5, tol=None)\n",
        "               ]\n",
        "\n",
        "for cls in classifiers:\n",
        "    cls.fit(X_train, y_train)\n",
        "    cls.predict(X_test)"
      ],
      "metadata": {
        "id": "5msPmUtaeJfp"
      },
      "execution_count": null,
      "outputs": []
    },
    {
      "cell_type": "code",
      "source": [
        "import seaborn as sns\n",
        "import matplotlib.pyplot as plt\n",
        "from sklearn.metrics import confusion_matrix\n",
        "\n",
        "from sklearn.metrics import ConfusionMatrixDisplay\n",
        "\n",
        "fig, axes = plt.subplots(nrows=3, ncols=2, figsize=(10,8))\n",
        "#labels = ['target0','target1']\n",
        "\n",
        "for cls, ax in zip(classifiers, axes.flatten()):\n",
        "    ConfusionMatrixDisplay.from_estimator(cls,\n",
        "                                          X_test,\n",
        "                                          y_test,\n",
        "                                          ax=ax,\n",
        "                                          cmap='Blues',\n",
        "                                          #display_labels=labels\n",
        "                                          )\n",
        "\n",
        "    ax.title.set_text(type(cls).__name__)\n",
        "\n",
        "plt.tight_layout()\n",
        "#plt.show()"
      ],
      "metadata": {
        "id": "ren5GyaxfFYb"
      },
      "execution_count": null,
      "outputs": []
    },
    {
      "cell_type": "code",
      "source": [
        "from sklearn.metrics import classification_report\n",
        "\n",
        "for cls in classifiers:\n",
        "    cls.fit(X_train, y_train)\n",
        "    cls.predict(X_test)\n",
        "    print(cls)\n",
        "    print(classification_report(y_test,cls.predict(X_test))) #, target_names=labels))"
      ],
      "metadata": {
        "id": "fbYNl_GifqS-"
      },
      "execution_count": null,
      "outputs": []
    },
    {
      "cell_type": "markdown",
      "source": [
        "## 8. CREO CLASE TextCleaner (para poner en la pipeline):"
      ],
      "metadata": {
        "id": "DSQ86IPOhEhq"
      }
    },
    {
      "cell_type": "markdown",
      "source": [
        "TextCleaner es un componente personalizado disenado para usarlo en el pipeline de sklearn. Permite limpiar el texto siguiendo un conjunto de patrones definidos antes de la vectorizacion:\n",
        "\n",
        "`from sklearn.base import BaseEstimator, TransformerMixin`\n",
        "- BaseEstimator: proporciona los métodos get_params() y set_params() para gestionar parámetros.\n",
        "- TransformerMixin: proporciona el método fit_transform()\n",
        "\n",
        "- Esto hace que la clase sea compatible con los pipelines de scikit-learn.\n",
        "\n",
        "`class TextCleaner(BaseEstimator, TransformerMixin):`\n",
        "\n",
        "    `def __init__(self, patterns):  # Constructor, acepta el parametro \"patterns\", que es donde pusimos los regex`\n",
        "        `self.patterns = patterns`\n",
        "\n",
        "    `def fit(self, X, y=None):      # Metodo obligatorio para cualquier transformados en scikit-learn`\n",
        "        `return self                # No realiza ninguna operacion de aprendizaje, solo devuelve self`\n",
        "\n",
        "    `def transform(self, X):                            # Realiza la limpieza del texto`\n",
        "        `df = pd.DataFrame(X, columns=['text'])         # Convierte X en un DFr con una columna llamada 'text`\n",
        "        `df = clean_column(df, 'text', self.patterns)   # Llama la funcion clean_column() que aplica los patrones de limpieza`\n",
        "        `return df['text'].values                       # Devuelve el texto limpio como un array`"
      ],
      "metadata": {
        "id": "XfDirDG2Gt3I"
      }
    },
    {
      "cell_type": "code",
      "execution_count": null,
      "metadata": {
        "id": "IfhzphOObrCg"
      },
      "outputs": [],
      "source": [
        "# TextCleaner:\n",
        "\n",
        "from sklearn.base import BaseEstimator, TransformerMixin\n",
        "\n",
        "class TextCleaner(BaseEstimator, TransformerMixin):\n",
        "    def __init__(self, patterns):\n",
        "        self.patterns = patterns\n",
        "\n",
        "    def fit(self, X, y=None):       # probar sacando \"y\" y averiguar cuando seria necesario ponerlo!\n",
        "        return self\n",
        "\n",
        "    def transform(self, X):\n",
        "        df = pd.DataFrame(X, columns=['text'])\n",
        "        df = clean_column(df, 'text', self.patterns)\n",
        "        return df['text'].values"
      ]
    },
    {
      "cell_type": "markdown",
      "source": [
        "## 9. PIPELINE"
      ],
      "metadata": {
        "id": "smo5WKUJgUU7"
      }
    },
    {
      "cell_type": "code",
      "execution_count": null,
      "metadata": {
        "id": "dqZH4WVF4CoG"
      },
      "outputs": [],
      "source": [
        "# Step 8: Pipeline Finale (nuovo train test split su dati raw testuali)\n",
        "X_train, X_test, y_train, y_test = train_test_split(X, y,\n",
        "                                                    test_size=0.3,\n",
        "                                                    random_state=667,\n",
        "                                                    stratify=y\n",
        "                                                    )\n",
        "\n",
        "from sklearn.pipeline import Pipeline\n",
        "\n",
        "text_cleaner = TextCleaner(patterns)\n",
        "bow = CountVectorizer(max_features=1500, min_df=5, max_df=0.7,stop_words='english')\n",
        "tfidf = TfidfTransformer()\n",
        "clf = SGDClassifier(loss='hinge', penalty='l2',alpha=1e-3, random_state=667, max_iter=5, tol=None)\n",
        "    # MultinomialNB(alpha=0.1)\n",
        "    # RandomForestClassifier(n_estimators=200,random_state=667, max_depth=5)\n",
        "    # GradientBoostingClassifier(n_estimators=50)\n",
        "    # LogisticRegression(max_iter=1000)\n",
        "\n",
        "pipe = Pipeline([\n",
        "                ('text cleaner', text_cleaner),\n",
        "                ('bow',bow),\n",
        "                ('tfidf',tfidf),\n",
        "                ('clf',clf),\n",
        "                ])\n",
        "\n",
        "pipe.fit(X_train, y_train)\n",
        "\n",
        "y_pred = pipe.predict(X_test)\n",
        "\n",
        "test_data_accuracy = accuracy_score(y_test,y_pred)\n",
        "print('Accuracy score of the test data : ', test_data_accuracy)"
      ]
    },
    {
      "cell_type": "code",
      "execution_count": null,
      "metadata": {
        "id": "iF3jiJy24CoH"
      },
      "outputs": [],
      "source": [
        "#labels = ['Class0', 'Class1']\n",
        "from sklearn.metrics import classification_report\n",
        "print(classification_report(y_test, y_pred))#, target_names=labels))"
      ]
    },
    {
      "cell_type": "code",
      "execution_count": null,
      "metadata": {
        "id": "GD_r0rgH4CoH"
      },
      "outputs": [],
      "source": [
        "# import seaborn as sns\n",
        "# import matplotlib.pyplot as plt\n",
        "# from sklearn.metrics import confusion_matrix\n",
        "\n",
        "cm = confusion_matrix(y_test, y_pred)\n",
        "plt.figure(figsize = (7,6))\n",
        "sns.heatmap(cm,cmap= \"Blues\",\n",
        "            linecolor = 'black',\n",
        "            linewidth = 1,\n",
        "            annot = True,\n",
        "            fmt='',\n",
        "            xticklabels = classifier.classes_,\n",
        "            yticklabels = classifier.classes_)\n",
        "\n",
        "plt.xlabel(\"Predicted\")\n",
        "plt.ylabel(\"Actual\")"
      ]
    },
    {
      "cell_type": "code",
      "execution_count": null,
      "metadata": {
        "id": "zqpuC3p-4CoH"
      },
      "outputs": [],
      "source": [
        "# Step 10: Cross Validation\n",
        "from sklearn.model_selection import cross_val_score\n",
        "scores = cross_val_score(pipe, X, y, scoring = 'f1_micro', cv = 8)\n",
        "\n",
        "print(f'scores={scores}')\n",
        "print(f'mean={np.mean(scores)}')\n",
        "print(f'std={np.std(scores)}')"
      ]
    },
    {
      "cell_type": "markdown",
      "source": [
        "## 10. DUMP PIPE"
      ],
      "metadata": {
        "id": "KqUP-ecohYPD"
      }
    },
    {
      "cell_type": "code",
      "execution_count": null,
      "metadata": {
        "id": "g65EDziR4CoH"
      },
      "outputs": [],
      "source": [
        "import joblib\n",
        "joblib.dump(pipe,'NLPEs1.pkl')"
      ]
    },
    {
      "cell_type": "markdown",
      "source": [
        "## 11. LOAD AND TEST PIPE"
      ],
      "metadata": {
        "id": "QeWFgnm37ew6"
      }
    },
    {
      "cell_type": "code",
      "execution_count": null,
      "metadata": {
        "id": "91UPnG2q4CoI"
      },
      "outputs": [],
      "source": [
        "import joblib\n",
        "\n",
        "uploaded_model = joblib.load('NLPEs1.pkl')\n",
        "pred = uploaded_model.predict([\"test_text_positive\"]) # 1\n",
        "pred[0]"
      ]
    },
    {
      "cell_type": "code",
      "source": [
        "pred = uploaded_model.predict([\"test_text_negative\"]) # 0\n",
        "pred[0]"
      ],
      "metadata": {
        "id": "UeS-f1Pe7mMr"
      },
      "execution_count": null,
      "outputs": []
    }
  ],
  "metadata": {
    "colab": {
      "provenance": [],
      "collapsed_sections": [
        "VThrCfQTU8T0",
        "eRls6dMAgB-T",
        "r09TZwgoa4Ed"
      ],
      "include_colab_link": true
    },
    "kernelspec": {
      "display_name": "Python 3",
      "language": "python",
      "name": "python3"
    },
    "language_info": {
      "codemirror_mode": {
        "name": "ipython",
        "version": 3
      },
      "file_extension": ".py",
      "mimetype": "text/x-python",
      "name": "python",
      "nbconvert_exporter": "python",
      "pygments_lexer": "ipython3",
      "version": "3.11.9"
    },
    "orig_nbformat": 4
  },
  "nbformat": 4,
  "nbformat_minor": 0
}